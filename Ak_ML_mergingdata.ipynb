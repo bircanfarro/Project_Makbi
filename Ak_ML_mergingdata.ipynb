{
 "cells": [
  {
   "cell_type": "markdown",
   "metadata": {},
   "source": [
    "# ML Project-Housing price prediction\n",
    "##Akshay Vaghani"
   ]
  },
  {
   "cell_type": "markdown",
   "metadata": {},
   "source": [
    "## MultiLinear Regression"
   ]
  },
  {
   "cell_type": "code",
   "execution_count": 2,
   "metadata": {},
   "outputs": [],
   "source": [
    "# Importing the libraries\n",
    "import numpy as np\n",
    "import pandas as pd\n",
    "import matplotlib.pyplot as plt\n",
    "import seaborn as sns\n",
    "from scipy.stats import norm\n",
    "from sklearn.preprocessing import StandardScaler\n",
    "from scipy import stats\n",
    "import warnings\n",
    "warnings.filterwarnings('ignore')\n",
    "%matplotlib inline"
   ]
  },
  {
   "cell_type": "code",
   "execution_count": 3,
   "metadata": {},
   "outputs": [],
   "source": [
    "# Importing the dataset\n",
    "dataset = pd.read_csv('train.csv')\n",
    "dataset_test=pd.read_csv('test.csv')\n"
   ]
  },
  {
   "cell_type": "code",
   "execution_count": 6,
   "metadata": {},
   "outputs": [
    {
     "data": {
      "text/plain": [
       "['SalePrice']"
      ]
     },
     "execution_count": 6,
     "metadata": {},
     "output_type": "execute_result"
    }
   ],
   "source": [
    "dataset_test.shape\n",
    "#[c for c in dataset.columns if not c in dataset_test.columns]"
   ]
  },
  {
   "cell_type": "code",
   "execution_count": 16,
   "metadata": {},
   "outputs": [
    {
     "data": {
      "text/plain": [
       "(1460, 80)"
      ]
     },
     "execution_count": 16,
     "metadata": {},
     "output_type": "execute_result"
    }
   ],
   "source": [
    "datasetX= dataset.drop(['SalePrice'],axis=1)\n",
    "datasetX.shape"
   ]
  },
  {
   "cell_type": "code",
   "execution_count": 18,
   "metadata": {},
   "outputs": [
    {
     "data": {
      "text/html": [
       "<div>\n",
       "<style scoped>\n",
       "    .dataframe tbody tr th:only-of-type {\n",
       "        vertical-align: middle;\n",
       "    }\n",
       "\n",
       "    .dataframe tbody tr th {\n",
       "        vertical-align: top;\n",
       "    }\n",
       "\n",
       "    .dataframe thead th {\n",
       "        text-align: right;\n",
       "    }\n",
       "</style>\n",
       "<table border=\"1\" class=\"dataframe\">\n",
       "  <thead>\n",
       "    <tr style=\"text-align: right;\">\n",
       "      <th></th>\n",
       "      <th>Id</th>\n",
       "      <th>MSSubClass</th>\n",
       "      <th>MSZoning</th>\n",
       "      <th>LotFrontage</th>\n",
       "      <th>LotArea</th>\n",
       "      <th>Street</th>\n",
       "      <th>Alley</th>\n",
       "      <th>LotShape</th>\n",
       "      <th>LandContour</th>\n",
       "      <th>Utilities</th>\n",
       "      <th>...</th>\n",
       "      <th>ScreenPorch</th>\n",
       "      <th>PoolArea</th>\n",
       "      <th>PoolQC</th>\n",
       "      <th>Fence</th>\n",
       "      <th>MiscFeature</th>\n",
       "      <th>MiscVal</th>\n",
       "      <th>MoSold</th>\n",
       "      <th>YrSold</th>\n",
       "      <th>SaleType</th>\n",
       "      <th>SaleCondition</th>\n",
       "    </tr>\n",
       "  </thead>\n",
       "  <tbody>\n",
       "    <tr>\n",
       "      <th>0</th>\n",
       "      <td>1</td>\n",
       "      <td>60</td>\n",
       "      <td>RL</td>\n",
       "      <td>65.0</td>\n",
       "      <td>8450</td>\n",
       "      <td>Pave</td>\n",
       "      <td>NaN</td>\n",
       "      <td>Reg</td>\n",
       "      <td>Lvl</td>\n",
       "      <td>AllPub</td>\n",
       "      <td>...</td>\n",
       "      <td>0</td>\n",
       "      <td>0</td>\n",
       "      <td>NaN</td>\n",
       "      <td>NaN</td>\n",
       "      <td>NaN</td>\n",
       "      <td>0</td>\n",
       "      <td>2</td>\n",
       "      <td>2008</td>\n",
       "      <td>WD</td>\n",
       "      <td>Normal</td>\n",
       "    </tr>\n",
       "    <tr>\n",
       "      <th>1</th>\n",
       "      <td>2</td>\n",
       "      <td>20</td>\n",
       "      <td>RL</td>\n",
       "      <td>80.0</td>\n",
       "      <td>9600</td>\n",
       "      <td>Pave</td>\n",
       "      <td>NaN</td>\n",
       "      <td>Reg</td>\n",
       "      <td>Lvl</td>\n",
       "      <td>AllPub</td>\n",
       "      <td>...</td>\n",
       "      <td>0</td>\n",
       "      <td>0</td>\n",
       "      <td>NaN</td>\n",
       "      <td>NaN</td>\n",
       "      <td>NaN</td>\n",
       "      <td>0</td>\n",
       "      <td>5</td>\n",
       "      <td>2007</td>\n",
       "      <td>WD</td>\n",
       "      <td>Normal</td>\n",
       "    </tr>\n",
       "    <tr>\n",
       "      <th>2</th>\n",
       "      <td>3</td>\n",
       "      <td>60</td>\n",
       "      <td>RL</td>\n",
       "      <td>68.0</td>\n",
       "      <td>11250</td>\n",
       "      <td>Pave</td>\n",
       "      <td>NaN</td>\n",
       "      <td>IR1</td>\n",
       "      <td>Lvl</td>\n",
       "      <td>AllPub</td>\n",
       "      <td>...</td>\n",
       "      <td>0</td>\n",
       "      <td>0</td>\n",
       "      <td>NaN</td>\n",
       "      <td>NaN</td>\n",
       "      <td>NaN</td>\n",
       "      <td>0</td>\n",
       "      <td>9</td>\n",
       "      <td>2008</td>\n",
       "      <td>WD</td>\n",
       "      <td>Normal</td>\n",
       "    </tr>\n",
       "    <tr>\n",
       "      <th>3</th>\n",
       "      <td>4</td>\n",
       "      <td>70</td>\n",
       "      <td>RL</td>\n",
       "      <td>60.0</td>\n",
       "      <td>9550</td>\n",
       "      <td>Pave</td>\n",
       "      <td>NaN</td>\n",
       "      <td>IR1</td>\n",
       "      <td>Lvl</td>\n",
       "      <td>AllPub</td>\n",
       "      <td>...</td>\n",
       "      <td>0</td>\n",
       "      <td>0</td>\n",
       "      <td>NaN</td>\n",
       "      <td>NaN</td>\n",
       "      <td>NaN</td>\n",
       "      <td>0</td>\n",
       "      <td>2</td>\n",
       "      <td>2006</td>\n",
       "      <td>WD</td>\n",
       "      <td>Abnorml</td>\n",
       "    </tr>\n",
       "    <tr>\n",
       "      <th>4</th>\n",
       "      <td>5</td>\n",
       "      <td>60</td>\n",
       "      <td>RL</td>\n",
       "      <td>84.0</td>\n",
       "      <td>14260</td>\n",
       "      <td>Pave</td>\n",
       "      <td>NaN</td>\n",
       "      <td>IR1</td>\n",
       "      <td>Lvl</td>\n",
       "      <td>AllPub</td>\n",
       "      <td>...</td>\n",
       "      <td>0</td>\n",
       "      <td>0</td>\n",
       "      <td>NaN</td>\n",
       "      <td>NaN</td>\n",
       "      <td>NaN</td>\n",
       "      <td>0</td>\n",
       "      <td>12</td>\n",
       "      <td>2008</td>\n",
       "      <td>WD</td>\n",
       "      <td>Normal</td>\n",
       "    </tr>\n",
       "  </tbody>\n",
       "</table>\n",
       "<p>5 rows × 80 columns</p>\n",
       "</div>"
      ],
      "text/plain": [
       "   Id  MSSubClass MSZoning  LotFrontage  LotArea Street Alley LotShape  \\\n",
       "0   1          60       RL         65.0     8450   Pave   NaN      Reg   \n",
       "1   2          20       RL         80.0     9600   Pave   NaN      Reg   \n",
       "2   3          60       RL         68.0    11250   Pave   NaN      IR1   \n",
       "3   4          70       RL         60.0     9550   Pave   NaN      IR1   \n",
       "4   5          60       RL         84.0    14260   Pave   NaN      IR1   \n",
       "\n",
       "  LandContour Utilities      ...       ScreenPorch PoolArea PoolQC Fence  \\\n",
       "0         Lvl    AllPub      ...                 0        0    NaN   NaN   \n",
       "1         Lvl    AllPub      ...                 0        0    NaN   NaN   \n",
       "2         Lvl    AllPub      ...                 0        0    NaN   NaN   \n",
       "3         Lvl    AllPub      ...                 0        0    NaN   NaN   \n",
       "4         Lvl    AllPub      ...                 0        0    NaN   NaN   \n",
       "\n",
       "  MiscFeature MiscVal MoSold  YrSold  SaleType  SaleCondition  \n",
       "0         NaN       0      2    2008        WD         Normal  \n",
       "1         NaN       0      5    2007        WD         Normal  \n",
       "2         NaN       0      9    2008        WD         Normal  \n",
       "3         NaN       0      2    2006        WD        Abnorml  \n",
       "4         NaN       0     12    2008        WD         Normal  \n",
       "\n",
       "[5 rows x 80 columns]"
      ]
     },
     "execution_count": 18,
     "metadata": {},
     "output_type": "execute_result"
    }
   ],
   "source": [
    "merge_df=pd.concat([datasetX,dataset_test])\n",
    "merge_df.head(5)"
   ]
  },
  {
   "cell_type": "markdown",
   "metadata": {},
   "source": [
    "# Missing data analysis and visualization"
   ]
  },
  {
   "cell_type": "code",
   "execution_count": 19,
   "metadata": {
    "scrolled": true
   },
   "outputs": [
    {
     "data": {
      "text/html": [
       "<div>\n",
       "<style scoped>\n",
       "    .dataframe tbody tr th:only-of-type {\n",
       "        vertical-align: middle;\n",
       "    }\n",
       "\n",
       "    .dataframe tbody tr th {\n",
       "        vertical-align: top;\n",
       "    }\n",
       "\n",
       "    .dataframe thead th {\n",
       "        text-align: right;\n",
       "    }\n",
       "</style>\n",
       "<table border=\"1\" class=\"dataframe\">\n",
       "  <thead>\n",
       "    <tr style=\"text-align: right;\">\n",
       "      <th></th>\n",
       "      <th>Total</th>\n",
       "      <th>Percent</th>\n",
       "      <th>DataType</th>\n",
       "    </tr>\n",
       "  </thead>\n",
       "  <tbody>\n",
       "    <tr>\n",
       "      <th>PoolQC</th>\n",
       "      <td>2909</td>\n",
       "      <td>0.996574</td>\n",
       "      <td>object</td>\n",
       "    </tr>\n",
       "    <tr>\n",
       "      <th>MiscFeature</th>\n",
       "      <td>2814</td>\n",
       "      <td>0.964029</td>\n",
       "      <td>object</td>\n",
       "    </tr>\n",
       "    <tr>\n",
       "      <th>Alley</th>\n",
       "      <td>2721</td>\n",
       "      <td>0.932169</td>\n",
       "      <td>object</td>\n",
       "    </tr>\n",
       "    <tr>\n",
       "      <th>Fence</th>\n",
       "      <td>2348</td>\n",
       "      <td>0.804385</td>\n",
       "      <td>object</td>\n",
       "    </tr>\n",
       "    <tr>\n",
       "      <th>FireplaceQu</th>\n",
       "      <td>1420</td>\n",
       "      <td>0.486468</td>\n",
       "      <td>object</td>\n",
       "    </tr>\n",
       "  </tbody>\n",
       "</table>\n",
       "</div>"
      ],
      "text/plain": [
       "             Total   Percent DataType\n",
       "PoolQC        2909  0.996574   object\n",
       "MiscFeature   2814  0.964029   object\n",
       "Alley         2721  0.932169   object\n",
       "Fence         2348  0.804385   object\n",
       "FireplaceQu   1420  0.486468   object"
      ]
     },
     "execution_count": 19,
     "metadata": {},
     "output_type": "execute_result"
    }
   ],
   "source": [
    "# find the missing data\n",
    "total = merge_df.isnull().sum().sort_values(ascending=False)\n",
    "percent = (merge_df.isnull().sum()/merge_df.isnull().count()).sort_values(ascending=False)\n",
    "datatype=merge_df.dtypes\n",
    "missing_data = pd.concat([total, percent,datatype], axis=1, keys=['Total', 'Percent','DataType'])\n",
    "missing_data_srt=missing_data.sort_values('Total',ascending=False).head(21)\n",
    "missing_data_srt.head(5)\n"
   ]
  },
  {
   "cell_type": "code",
   "execution_count": 20,
   "metadata": {},
   "outputs": [
    {
     "data": {
      "image/png": "[encoded data removed]",
      "text/plain": [
       "<matplotlib.figure.Figure at 0x1a192f12e8>"
      ]
     },
     "metadata": {},
     "output_type": "display_data"
    }
   ],
   "source": [
    "# missing data by features visualization \n",
    "f, ax = plt.subplots(figsize=(15, 12))\n",
    "plt.xticks(rotation='90')\n",
    "sns.barplot(x=missing_data_srt.index, y='Total',data=missing_data_srt,color='b',palette='Set3')\n",
    "plt.xlabel('Features', fontsize=15)\n",
    "plt.ylabel('Number of missing values', fontsize=15)\n",
    "plt.title('Missing values', fontsize=15)\n",
    "\n",
    "plt.savefig('missing_values.png')\n",
    "plt.show()"
   ]
  },
  {
   "cell_type": "markdown",
   "metadata": {},
   "source": [
    "# Cleaning the data"
   ]
  },
  {
   "cell_type": "markdown",
   "metadata": {},
   "source": [
    "## function for data cleaning "
   ]
  },
  {
   "cell_type": "code",
   "execution_count": 21,
   "metadata": {},
   "outputs": [],
   "source": [
    "# This is better way to clean data for train and test both\n",
    "# function to fill missing values \n",
    "\n",
    "def miss_clean(data):\n",
    "    \n",
    "    if 'SalePrice' in data.columns:\n",
    "        data = data.drop(data[(data['GrLivArea']>4000) & (data['SalePrice']<300000)].index)\n",
    "    \n",
    "    #numerical missing columns\n",
    "    data['LotFrontage'] = data.groupby('Neighborhood')['LotFrontage'].transform(\n",
    "        lambda x: x.fillna(x.median()))\n",
    "    data['MasVnrArea'].fillna(0, inplace=True)\n",
    "    data['GarageYrBlt'].fillna(data['YearBuilt'], inplace=True)\n",
    "\n",
    "    #categorical missing columns where missing is a category\n",
    "    data['PoolQC'].fillna('None', inplace=True)\n",
    "    data['MiscFeature'].fillna('None', inplace=True)\n",
    "    data['Alley'].fillna('None', inplace=True)\n",
    "    data['Fence'].fillna('None', inplace=True)\n",
    "    data['FireplaceQu'].fillna('None', inplace=True)\n",
    "    for col in ('GarageType', 'GarageFinish', 'GarageQual', 'GarageCond'):\n",
    "        data[col] = data[col].fillna('None')\n",
    "    for col in ('BsmtQual', 'BsmtCond', 'BsmtExposure', 'BsmtFinType1', 'BsmtFinType2'):\n",
    "        data[col] = data[col].fillna('None')\n",
    "    \n",
    "    #categorical missing columns by mode of the missings columns\n",
    "    data['Electrical'] = data['Electrical'].fillna(data['Electrical'].mode()[0])\n",
    "    data['KitchenQual'] = data['KitchenQual'].fillna(data['KitchenQual'].mode()[0])\n",
    "    data['Exterior1st'] = data['Exterior1st'].fillna(data['Exterior1st'].mode()[0])\n",
    "    data['Exterior2nd'] = data['Exterior2nd'].fillna(data['Exterior2nd'].mode()[0])\n",
    "    data['SaleType'] = data['SaleType'].fillna(data['SaleType'].mode()[0])\n",
    "    data['Functional'] = data['Functional'].fillna(data['Functional'].mode()[0])\n",
    "    #data[\"Functional\"] = data[\"Functional\"].fillna(\"Typ\")\n",
    "    data['MasVnrType']=data['MasVnrType'].fillna(data['MasVnrType'].mode()[0])\n",
    "    for col in ('GarageYrBlt', 'GarageArea', 'GarageCars'):\n",
    "        data[col] = data[col].fillna(0)\n",
    "\n",
    "    # followings was missing after cleaning normally with the code without following on testdata\n",
    "   # CY suggestion\n",
    "    data['MSZoning'] = data['MSZoning'].fillna(data['MSZoning'].mode()[0])\n",
    "    data['BsmtFullBath'] = data['BsmtFullBath'].fillna(0)\n",
    "    data['Utilities'] = data['Utilities'].fillna('None')\n",
    "    data['BsmtHalfBath'] = data['BsmtHalfBath'].fillna(0)\n",
    "    data['TotalBsmtSF'] = data['TotalBsmtSF'].fillna(0)\n",
    "    data['BsmtUnfSF'] = data['BsmtUnfSF'].fillna(0)\n",
    "    data['BsmtFinSF1'] = data['BsmtFinSF1'].fillna(0)\n",
    "    data['BsmtFinSF2'] = data['BsmtFinSF2'].fillna(0)\n",
    "\n",
    "\n",
    "\n",
    "    #data['MSZoning'] = data['Electrical'].fillna(data['Electrical'].mode()[0])\n",
    "    #data['MSZoning'] = data['Electrical'].fillna(data['Electrical'].mode()[0])\n",
    "\n",
    "\n",
    "        \n",
    "    #data.drop(['Utilities'], axis=1, inplace=True)\n",
    "    # data[\"TotalSF\"] = data[\"TotalBsmtSF\"] + data[\"1stFlrSF\"] + data[\"2ndFlrSF\"]\n",
    "    # data.drop([\"TotalBsmtSF\",\"1stFlrSF\",\"2ndFlrSF\"], axis=1, inplace=True)\n",
    "    return data"
   ]
  },
  {
   "cell_type": "markdown",
   "metadata": {},
   "source": [
    "## function to convert numerical data columns which is actually categorical"
   ]
  },
  {
   "cell_type": "code",
   "execution_count": 22,
   "metadata": {},
   "outputs": [],
   "source": [
    "# function to convert numerical type to categorical data\n",
    "# numerical columns are actually categorical and we need to convert it\n",
    "def num_category(data):\n",
    "    data['YrSold'] = data['YrSold'].astype('str')\n",
    "    data['MoSold'] = data['MoSold'].astype('str')\n",
    "    data['OverallQual'] = data['OverallQual'].astype('str')\n",
    "    data['MSSubClass'] = data['MSSubClass'].astype('category')\n",
    "    data['OverallCond'] = data['OverallCond'].astype('str')\n",
    "    return data"
   ]
  },
  {
   "cell_type": "markdown",
   "metadata": {},
   "source": [
    "# cleaning actual data"
   ]
  },
  {
   "cell_type": "code",
   "execution_count": 28,
   "metadata": {},
   "outputs": [
    {
     "data": {
      "text/plain": [
       "(1459, 350)"
      ]
     },
     "execution_count": 28,
     "metadata": {},
     "output_type": "execute_result"
    }
   ],
   "source": [
    "# clean data to run test and train both\n",
    "\n",
    "merge_df.drop(['Id'],axis=1,inplace=True)\n",
    "\n",
    "# missingness, numerical to categorical and dymmyfy on train data\n",
    "XX1=pd.get_dummies(num_category(miss_clean(merge_df)))\n",
    "# separating features and target\n",
    "Y1=np.log1p(dataset['SalePrice'])\n",
    "\n",
    "train_df=XX1[0:1460]\n",
    "test_df=XX1[1460:]\n",
    "test_df.shape\n"
   ]
  },
  {
   "cell_type": "markdown",
   "metadata": {},
   "source": [
    "# Building a models"
   ]
  },
  {
   "cell_type": "code",
   "execution_count": 29,
   "metadata": {},
   "outputs": [],
   "source": [
    "# importing library for differents models\n",
    "from sklearn.linear_model import LinearRegression, Lasso,Ridge, LassoLarsIC, LassoCV, ElasticNet,BayesianRidge\n",
    "from sklearn.ensemble import RandomForestRegressor, BaggingRegressor\n",
    "from sklearn.ensemble import GradientBoostingRegressor\n",
    "#from sklearn.kernel_ridge import KernelRidge\n",
    "\n",
    "from sklearn.pipeline import make_pipeline\n",
    "from sklearn.preprocessing import RobustScaler\n",
    "\n",
    "from sklearn.base import BaseEstimator, TransformerMixin, RegressorMixin, clone\n",
    "\n",
    "from sklearn.model_selection import cross_val_score, train_test_split\n",
    "from sklearn.metrics import mean_squared_error\n",
    "\n",
    "import xgboost as xgb"
   ]
  },
  {
   "cell_type": "code",
   "execution_count": 31,
   "metadata": {},
   "outputs": [
    {
     "data": {
      "text/plain": [
       "(1168, 350)"
      ]
     },
     "execution_count": 31,
     "metadata": {},
     "output_type": "execute_result"
    }
   ],
   "source": [
    "# further split train and test data\n",
    "# separating our train dataset into further train and test for cross valudation\n",
    "from sklearn.cross_validation import train_test_split\n",
    "X_train, X_test, y_train, y_test = train_test_split(train_df, Y1, test_size = 0.2 , random_state = 0)\n",
    "X_train.shape"
   ]
  },
  {
   "cell_type": "markdown",
   "metadata": {},
   "source": [
    "# function to calculate RMSE and Rsquare with "
   ]
  },
  {
   "cell_type": "code",
   "execution_count": 32,
   "metadata": {},
   "outputs": [],
   "source": [
    "# function to calculate root mean square error with crossvalidation\n",
    "# input is the specifi model and output is the rmse and r^2 values\n",
    "\n",
    "# calculate RMSE with cross validation\n",
    "n_folds = 10\n",
    "def rmse_cv(model,X_data,Y_data):\n",
    "    kf=n_folds\n",
    "    #kf = KFold(n_folds, shuffle=True, random_state=10).get_n_splits(X_data.values)\n",
    "    rmse= np.sqrt(-cross_val_score(model, X_data.values, Y_data, scoring=\"neg_mean_squared_error\", cv = kf))\n",
    "    return(rmse)\n",
    "\n",
    "# function to calculate R^2 with cross validation\n",
    "def rsquare_cv(model,X_data,Y_data):\n",
    "    kf=n_folds\n",
    "    rmse= np.sqrt(cross_val_score(model, X_data.values, Y_data, cv = kf))\n",
    "    return(rmse)"
   ]
  },
  {
   "cell_type": "markdown",
   "metadata": {},
   "source": [
    "## Lasso regression"
   ]
  },
  {
   "cell_type": "code",
   "execution_count": 36,
   "metadata": {},
   "outputs": [
    {
     "name": "stdout",
     "output_type": "stream",
     "text": [
      "lasso score ( RMSE) : 0.12139 (0.03346)\n",
      "lasso R^2 : 0.95110 (0.02416)\n",
      "lasso R^2 for test data : 0.709635121940106\n",
      "train-RMSE: 0.09540928939215225\n",
      "test-RMSE: 0.2096680262799174\n"
     ]
    },
    {
     "data": {
      "text/plain": [
       "0.9436215153956203"
      ]
     },
     "execution_count": 36,
     "metadata": {},
     "output_type": "execute_result"
    }
   ],
   "source": [
    "# lasso regression ( more consise way)\n",
    "# ElasNet = make_pipeline(RobustScaler(), ElasticNet(alpha=0.0005, l1_ratio=0.5, random_state=1))\n",
    "\n",
    "lasso = make_pipeline(RobustScaler(), Lasso(alpha =0.0005, random_state=1))\n",
    "lasso = Lasso(alpha =0.0004, random_state=1)\n",
    "\n",
    "\n",
    "score=rmse_cv(lasso,X_train,y_train) # score with cross validation\n",
    "rsquare=rsquare_cv(lasso,X_train,y_train)\n",
    "print('lasso score ( RMSE) : {:0.5f} ({:0.5f})'.format(score.mean(),score.std()))\n",
    "print('lasso R^2 : {:0.5f} ({:0.5f})'.format(rsquare.mean(),rsquare.std()))\n",
    "\n",
    "\n",
    "lasso.fit(X_train,y_train)\n",
    "y_pred_train=lasso.predict(X_train)\n",
    "y_pred=lasso.predict(X_test)\n",
    "print('lasso R^2 for test data :', lasso.score(X_test, y_test)) # R^2 for the ols model\n",
    "\n",
    "# calculate these metrics by hand!\n",
    "from sklearn import metrics\n",
    "print('train-RMSE:', np.sqrt(metrics.mean_squared_error(y_train,y_pred_train)))\n",
    "print('test-RMSE:', np.sqrt(metrics.mean_squared_error(y_test,y_pred)))\n",
    "\n",
    "lasso.score(X_train,y_train)"
   ]
  },
  {
   "cell_type": "code",
   "execution_count": 20,
   "metadata": {},
   "outputs": [
    {
     "data": {
      "text/plain": [
       "0.9367707419031353"
      ]
     },
     "execution_count": 20,
     "metadata": {},
     "output_type": "execute_result"
    }
   ],
   "source": [
    "lasso.score(X_test,y_test)"
   ]
  },
  {
   "cell_type": "code",
   "execution_count": 50,
   "metadata": {},
   "outputs": [
    {
     "data": {
      "text/plain": [
       "1459"
      ]
     },
     "execution_count": 50,
     "metadata": {},
     "output_type": "execute_result"
    }
   ],
   "source": [
    "\n",
    "#lasso = Lasso(alpha =0.0005, random_state=1)\n",
    "#lasso = Lasso(random_state=1)\n",
    "\n",
    "#lasso = make_pipeline(RobustScaler(), Lasso(alpha =0.0005, random_state=1))\n",
    "#lasso.fit(X1,Y1)\n",
    "pd.Series(np.exp(lasso.predict(X2)))\n",
    "\n",
    "\n",
    "submission = pd.DataFrame({'Id': test_id, 'SalePrice': np.exp(lasso.predict(X2))})\n",
    "submission.to_csv('submission.csv', index=False)\n",
    "len(submission)"
   ]
  },
  {
   "cell_type": "code",
   "execution_count": 53,
   "metadata": {},
   "outputs": [],
   "source": [
    "\n",
    "\n",
    "weird_result=list(pd.Series(np.exp(lasso.predict(X2))))\n",
    "i=weird_result.index(max(weird_result))\n",
    "\n"
   ]
  },
  {
   "cell_type": "code",
   "execution_count": 55,
   "metadata": {},
   "outputs": [
    {
     "data": {
      "text/plain": [
       "<matplotlib.collections.PathCollection at 0x1a1db523c8>"
      ]
     },
     "execution_count": 55,
     "metadata": {},
     "output_type": "execute_result"
    },
    {
     "data": {
      "image/png": "[encoded data removed]",
      "text/plain": [
       "<matplotlib.figure.Figure at 0x1a1dac8198>"
      ]
     },
     "metadata": {},
     "output_type": "display_data"
    }
   ],
   "source": [
    "weird_result[i] = np.mean(weird_result)\n",
    "\n",
    "plt.scatter(x=weird_result,y=range(1459))\n"
   ]
  },
  {
   "cell_type": "code",
   "execution_count": 56,
   "metadata": {},
   "outputs": [],
   "source": [
    "corrected_submission = pd.DataFrame({'Id': test_id, 'SalePrice': weird_result})\n",
    "corrected_submission.to_csv('submission.csv', index=False)"
   ]
  },
  {
   "cell_type": "code",
   "execution_count": 39,
   "metadata": {},
   "outputs": [],
   "source": [
    "import re\n",
    "def predictors_df(fitted_model,column_names=X1.columns): #returns a Pandas DataFrame holding predictors and coefficients\n",
    "   results=pd.DataFrame(np.append(column_names,fitted_model.coef_).reshape(2,len(fitted_model.coef_))).transpose()\n",
    "   results.columns = ['Predictor','Coefficient']\n",
    "   results=results.loc[abs(results['Coefficient']) > 0]\n",
    "   results = results.sort_values(by='Coefficient',ascending=False)\n",
    "   results.name = re.search(r'\\w*',repr(fitted_model)).group(0)\n",
    "   return results"
   ]
  },
  {
   "cell_type": "code",
   "execution_count": 79,
   "metadata": {},
   "outputs": [
    {
     "data": {
      "text/html": [
       "<div>\n",
       "<style scoped>\n",
       "    .dataframe tbody tr th:only-of-type {\n",
       "        vertical-align: middle;\n",
       "    }\n",
       "\n",
       "    .dataframe tbody tr th {\n",
       "        vertical-align: top;\n",
       "    }\n",
       "\n",
       "    .dataframe thead th {\n",
       "        text-align: right;\n",
       "    }\n",
       "</style>\n",
       "<table border=\"1\" class=\"dataframe\">\n",
       "  <thead>\n",
       "    <tr style=\"text-align: right;\">\n",
       "      <th></th>\n",
       "      <th>Predictor</th>\n",
       "      <th>Coefficient</th>\n",
       "    </tr>\n",
       "  </thead>\n",
       "  <tbody>\n",
       "    <tr>\n",
       "      <th>138</th>\n",
       "      <td>OverallQual_9</td>\n",
       "      <td>0.125432</td>\n",
       "    </tr>\n",
       "    <tr>\n",
       "      <th>80</th>\n",
       "      <td>Neighborhood_Crawfor</td>\n",
       "      <td>0.109593</td>\n",
       "    </tr>\n",
       "    <tr>\n",
       "      <th>130</th>\n",
       "      <td>OverallQual_10</td>\n",
       "      <td>0.107484</td>\n",
       "    </tr>\n",
       "    <tr>\n",
       "      <th>268</th>\n",
       "      <td>Functional_Typ</td>\n",
       "      <td>0.0843246</td>\n",
       "    </tr>\n",
       "    <tr>\n",
       "      <th>96</th>\n",
       "      <td>Neighborhood_StoneBr</td>\n",
       "      <td>0.0824685</td>\n",
       "    </tr>\n",
       "  </tbody>\n",
       "</table>\n",
       "</div>"
      ],
      "text/plain": [
       "                Predictor Coefficient\n",
       "138         OverallQual_9    0.125432\n",
       "80   Neighborhood_Crawfor    0.109593\n",
       "130        OverallQual_10    0.107484\n",
       "268        Functional_Typ   0.0843246\n",
       "96   Neighborhood_StoneBr   0.0824685"
      ]
     },
     "execution_count": 79,
     "metadata": {},
     "output_type": "execute_result"
    }
   ],
   "source": [
    "predictors_df(lasso).head(5)"
   ]
  },
  {
   "cell_type": "code",
   "execution_count": 35,
   "metadata": {},
   "outputs": [
    {
     "name": "stdout",
     "output_type": "stream",
     "text": [
      "0.9037629425887939\n",
      "{'alpha': 0.0004}\n",
      "Lasso(alpha=0.0004, copy_X=True, fit_intercept=True, max_iter=1000,\n",
      "   normalize=False, positive=False, precompute=False, random_state=1,\n",
      "   selection='cyclic', tol=0.0001, warm_start=False)\n",
      "0.9436215153956203\n"
     ]
    }
   ],
   "source": [
    "# Grid search on Lasso\n",
    "# look how to choose fraction parameters range\n",
    "\n",
    "from sklearn.model_selection import GridSearchCV\n",
    "lasso = Lasso(random_state=1)\n",
    "\n",
    "grid_param2 = [{'alpha': np.arange(0.0001, 0.001, 0.0001)}]\n",
    "#grid_param2 = [{'alpha': np.arange(, 15,1)}]\n",
    "\n",
    "\n",
    "para_search2 = GridSearchCV(lasso, grid_param2, cv=5, return_train_score=True)\n",
    "para_search2.fit(X_train,y_train)\n",
    "para_search2.cv_results_\n",
    "para_search2.grid_scores_\n",
    "\n",
    "print(para_search2.best_score_)\n",
    "print(para_search2.best_params_)\n",
    "\n",
    "lasso_best = para_search2.best_estimator_\n",
    "print(lasso_best.fit(X_train,y_train))\n",
    "print(lasso_best.score(X_train,y_train))"
   ]
  },
  {
   "cell_type": "code",
   "execution_count": 81,
   "metadata": {},
   "outputs": [
    {
     "data": {
      "text/plain": [
       "array([0.95331826, 0.95005328, 0.94738837, 0.94462944, 0.94189002,\n",
       "       0.93927667, 0.93704115, 0.93496232, 0.93300871])"
      ]
     },
     "execution_count": 81,
     "metadata": {},
     "output_type": "execute_result"
    }
   ],
   "source": [
    "# validation curve -lasso\n",
    "from sklearn.model_selection import validation_curve\n",
    "\n",
    "# range to search parameters\n",
    "param_range = np.arange(0.0001, 0.001, 0.0001)\n",
    "# dictionary with parameters and range for gride\n",
    "kwargs = dict(param_name='alpha', param_range=param_range)\n",
    "\n",
    "#training and test scores for varying parameter values and k-fold cross validation\n",
    "train_scores, test_scores = validation_curve(lasso, X_train,y_train, **kwargs, cv=5)\n",
    "# take mean over all crossvalidate result(different sample)\n",
    "train_scores_mean = np.mean(train_scores, axis=1)\n",
    "train_scores_std = np.std(train_scores, axis=1)\n",
    "test_scores_mean = np.mean(test_scores, axis=1)\n",
    "test_scores_std = np.std(test_scores, axis=1)\n",
    "train_scores_mean"
   ]
  },
  {
   "cell_type": "code",
   "execution_count": 136,
   "metadata": {},
   "outputs": [
    {
     "data": {
      "image/png": "[encoded data removed]",
      "text/plain": [
       "<matplotlib.figure.Figure at 0x1a19a59ef0>"
      ]
     },
     "metadata": {},
     "output_type": "display_data"
    }
   ],
   "source": [
    "# Train mean and standard deviation\n",
    "\n",
    "plt.figure(figsize=(10,7))\n",
    "plt.plot(param_range, train_scores_mean, color='r')\n",
    "train_y1 = train_scores_mean - train_scores_std\n",
    "train_y2 = train_scores_mean + train_scores_std\n",
    "plt.fill_between(param_range, y1=train_y1, y2=train_y2, color='r', alpha=0.1)\n",
    "\n",
    "# Test mean and standard deviation\n",
    "plt.plot(param_range, test_scores_mean,color='b')\n",
    "test_y1 = test_scores_mean - test_scores_std\n",
    "test_y2 = test_scores_mean + test_scores_std\n",
    "plt.xlabel('alpha',fontsize=15)\n",
    "plt.ylabel('RSquare',fontsize=15)\n",
    "plt.title('Grid Search for Lasso parameters', fontsize=20)\n",
    "plt.legend(('Train', 'Validation'),loc='upper right')\n",
    "plt.fill_between(param_range, y1=test_y1, y2=test_y2, color='b', alpha=0.1)\n",
    "plt.savefig('Grid_lasso.png')\n",
    "plt.show()\n",
    "\n",
    "# on x axis , number of k\n",
    "# to choose , two things need to consider, decrepancy and accruracy "
   ]
  },
  {
   "cell_type": "markdown",
   "metadata": {},
   "source": [
    "## Ridge regression"
   ]
  },
  {
   "cell_type": "code",
   "execution_count": 83,
   "metadata": {},
   "outputs": [
    {
     "name": "stdout",
     "output_type": "stream",
     "text": [
      "Ridge score(RMSE) : 0.11894 (0.01532)\n",
      "Ridge R^2 : 0.95279 (0.00966)\n",
      "Ridge R^2 for test data : 0.9283402518329283\n",
      "train-RMSE: 0.09472795952942713\n",
      "test-RMSE: 0.1102014135112272\n"
     ]
    }
   ],
   "source": [
    "#ridge regression\n",
    "ridg=Ridge(alpha=9, random_state=1)\n",
    "score=rmse_cv(ridg,X_train,y_train) # score with cross validation\n",
    "rsquare=rsquare_cv(ridg,X_train,y_train)\n",
    "print('Ridge score(RMSE) : {:0.5f} ({:0.5f})'.format(score.mean(),score.std()))\n",
    "print('Ridge R^2 : {:0.5f} ({:0.5f})'.format(rsquare.mean(),rsquare.std()))\n",
    "\n",
    "\n",
    "ridg.fit(X_train,y_train)\n",
    "y_pred_train=ridg.predict(X_train)\n",
    "y_pred=ridg.predict(X_test)\n",
    "print('Ridge R^2 for test data :', ridg.score(X_test, y_test)) # R^2 for the ols model\n",
    "\n",
    "# calculate these metrics by hand!\n",
    "from sklearn import metrics\n",
    "print('train-RMSE:', np.sqrt(metrics.mean_squared_error(y_train,y_pred_train)))\n",
    "print('test-RMSE:', np.sqrt(metrics.mean_squared_error(y_test,y_pred)))\n",
    "\n",
    "\n"
   ]
  },
  {
   "cell_type": "code",
   "execution_count": 84,
   "metadata": {},
   "outputs": [],
   "source": [
    "#Function to compute rmse for different values of lambda\n",
    "def rmse_data(model,xdata,ydata,n):\n",
    "    ridg=model(alpha=n, random_state=1)\n",
    "    score=rmse_cv(ridg,X_train,y_train)\n",
    "    return score.mean()\n",
    "    \n",
    "    \n",
    "#Function to compute rmse for different values of lambda\n",
    "def rmse_data_std(model,xdata,ydata,n):\n",
    "    ridg=model(alpha=n, random_state=1)\n",
    "    score=rmse_cv(ridg,X_train,y_train)\n",
    "    return score.std()\n",
    "    "
   ]
  },
  {
   "cell_type": "code",
   "execution_count": 85,
   "metadata": {},
   "outputs": [
    {
     "name": "stdout",
     "output_type": "stream",
     "text": [
      "0.9078735630334709\n",
      "{'alpha': 10}\n",
      "Ridge(alpha=10, copy_X=True, fit_intercept=True, max_iter=None,\n",
      "   normalize=False, random_state=1, solver='auto', tol=0.001)\n",
      "0.9422429830188833\n"
     ]
    }
   ],
   "source": [
    "# Grid search on Ridge\n",
    "# look how to choose fraction parameters range\n",
    "\n",
    "from sklearn.model_selection import GridSearchCV\n",
    "ridge = Ridge(random_state=1)\n",
    "\n",
    "grid_param2 = [{'alpha': np.arange(0,50,1)}]\n",
    "\n",
    "para_search2 = GridSearchCV(ridge, grid_param2, cv=10, return_train_score=True)\n",
    "para_search2.fit(X_train,y_train)\n",
    "para_search2.cv_results_\n",
    "para_search2.grid_scores_\n",
    "\n",
    "print(para_search2.best_score_)\n",
    "print(para_search2.best_params_)\n",
    "\n",
    "ridge_best = para_search2.best_estimator_\n",
    "print(ridge_best.fit(X_train,y_train))\n",
    "print(ridge_best.score(X_train,y_train))"
   ]
  },
  {
   "cell_type": "code",
   "execution_count": 137,
   "metadata": {
    "scrolled": true
   },
   "outputs": [
    {
     "name": "stdout",
     "output_type": "stream",
     "text": [
      "[0.89977042 0.90631998 0.90809023 0.90873385 0.908921   0.90887799\n",
      " 0.90870408 0.90845002 0.90814451 0.90780497 0.90744262 0.90706496\n",
      " 0.90667717 0.90628296 0.90588501 0.90548531 0.90508536 0.90468629\n",
      " 0.90428897 0.90389407 0.9035021  0.90311346 0.90272846 0.90234732\n",
      " 0.90197022]\n"
     ]
    },
    {
     "data": {
      "image/png": "[encoded data removed]",
      "text/plain": [
       "<matplotlib.figure.Figure at 0x1a1997c2e8>"
      ]
     },
     "metadata": {},
     "output_type": "display_data"
    }
   ],
   "source": [
    "# validation curve-lasso\n",
    "from sklearn.model_selection import validation_curve\n",
    "\n",
    "# range to search parameters\n",
    "param_range = np.arange(1,50,2)\n",
    "# dictionary with parameters and range for gride\n",
    "kwargs = dict(param_name='alpha', param_range=param_range)\n",
    "\n",
    "#training and test scores for varying parameter values and k-fold cross validation\n",
    "train_scores, test_scores = validation_curve(ridge, X_train,y_train, **kwargs, cv=5)\n",
    "\n",
    "# take mean over all crossvalidate result(different sample)\n",
    "train_scores_mean = np.mean(train_scores, axis=1)\n",
    "train_scores_std = np.std(train_scores, axis=1)\n",
    "test_scores_mean = np.mean(test_scores, axis=1)\n",
    "test_scores_std = np.std(test_scores, axis=1)\n",
    "print(test_scores_mean)\n",
    "\n",
    "# Train mean and standard deviation\n",
    "\n",
    "plt.figure(figsize=(10,7))\n",
    "plt.plot(param_range, train_scores_mean, color='r')\n",
    "train_y1 = train_scores_mean - train_scores_std\n",
    "train_y2 = train_scores_mean + train_scores_std\n",
    "plt.fill_between(param_range, y1=train_y1, y2=train_y2, color='r', alpha=0.1)\n",
    "\n",
    "# Test mean and standard deviation\n",
    "plt.plot(param_range, test_scores_mean,color='b')\n",
    "test_y1 = test_scores_mean - test_scores_std\n",
    "test_y2 = test_scores_mean + test_scores_std\n",
    "plt.xlabel('alpha',fontsize=15)\n",
    "plt.ylabel('RSquare',fontsize=15)\n",
    "plt.title('Grid Search for Ridge parameters', fontsize=20)\n",
    "plt.legend(('Train', 'Validation'),loc='upper right')\n",
    "plt.fill_between(param_range, y1=test_y1, y2=test_y2, color='b', alpha=0.1)\n",
    "plt.savefig('Grid_ridge.png')\n",
    "plt.show()\n",
    "\n",
    "# on x axis , number of k\n",
    "# to choose , two things need to consider, decrepancy and accruracy "
   ]
  },
  {
   "cell_type": "code",
   "execution_count": null,
   "metadata": {},
   "outputs": [],
   "source": []
  },
  {
   "cell_type": "markdown",
   "metadata": {},
   "source": [
    "## ElasticNet regression"
   ]
  },
  {
   "cell_type": "code",
   "execution_count": 140,
   "metadata": {},
   "outputs": [
    {
     "name": "stdout",
     "output_type": "stream",
     "text": [
      "Elastic Net score (RMSE) : 0.11868 (0.01555)\n",
      "Elastic Net R^2 : 0.95279 (0.01044)\n",
      "ElasticNet R^2 for test data : 0.937057840726994\n",
      "train-RMSE: 0.09587699938098375\n",
      "test-RMSE: 0.10328097879216304\n"
     ]
    }
   ],
   "source": [
    "#elastic net regression\n",
    "ENet=ElasticNet(alpha=0.0007,l1_ratio=0.5,random_state=1)\n",
    "#ENet = make_pipeline(RobustScaler(), ElasticNet(alpha=0.0005, l1_ratio=.9, random_state=3))\n",
    "score=rmse_cv(ENet,X_train,y_train) # score with cross validation\n",
    "rsquare=rsquare_cv(ENet,X_train,y_train)\n",
    "print('Elastic Net score (RMSE) : {:0.5f} ({:0.5f})'.format(score.mean(),score.std()))\n",
    "print('Elastic Net R^2 : {:0.5f} ({:0.5f})'.format(rsquare.mean(),rsquare.std()))\n",
    "\n",
    "\n",
    "ENet.fit(X_train,y_train)\n",
    "y_pred_train=ENet.predict(X_train)\n",
    "y_pred=ENet.predict(X_test)\n",
    "print('ElasticNet R^2 for test data :', ENet.score(X_test, y_test)) # R^2 for the ols model\n",
    "\n",
    "# calculate these metrics by hand!\n",
    "from sklearn import metrics\n",
    "print('train-RMSE:', np.sqrt(metrics.mean_squared_error(y_train,y_pred_train)))\n",
    "print('test-RMSE:', np.sqrt(metrics.mean_squared_error(y_test,y_pred)))\n"
   ]
  },
  {
   "cell_type": "code",
   "execution_count": 141,
   "metadata": {},
   "outputs": [
    {
     "name": "stdout",
     "output_type": "stream",
     "text": [
      "0.9078979315565263\n",
      "{'alpha': 0.0007000000000000001}\n",
      "ElasticNet(alpha=0.0007000000000000001, copy_X=True, fit_intercept=True,\n",
      "      l1_ratio=0.5, max_iter=1000, normalize=False, positive=False,\n",
      "      precompute=False, random_state=1, selection='cyclic', tol=0.0001,\n",
      "      warm_start=False)\n",
      "0.9414855243683645\n"
     ]
    }
   ],
   "source": [
    "# Grid search on ElasticNet\n",
    "# look how to choose fraction parameters range\n",
    "\n",
    "from sklearn.model_selection import GridSearchCV\n",
    "ENet = ElasticNet(random_state=1)\n",
    "\n",
    "grid_param2 = [{'alpha': np.arange(0.0001,0.001,0.0001),'l1_ratio':np.arange(0,1,0.1)}]\n",
    "grid_param2 = [{'alpha': np.arange(0.0001,0.001,0.0001)}]\n",
    "\n",
    "\n",
    "para_search2 = GridSearchCV(ENet, grid_param2, cv=10, return_train_score=True)\n",
    "para_search2.fit(X_train,y_train)\n",
    "para_search2.cv_results_\n",
    "para_search2.grid_scores_\n",
    "\n",
    "print(para_search2.best_score_)\n",
    "print(para_search2.best_params_)\n",
    "\n",
    "ENet_best = para_search2.best_estimator_\n",
    "print(ENet_best.fit(X_train,y_train))\n",
    "print(ENet_best.score(X_train,y_train))"
   ]
  },
  {
   "cell_type": "code",
   "execution_count": 142,
   "metadata": {},
   "outputs": [
    {
     "name": "stdout",
     "output_type": "stream",
     "text": [
      "[0.89347682 0.90322456 0.90594984 0.90663864 0.90680251 0.90647687\n",
      " 0.90564605 0.90455337 0.9033291  0.90189669]\n"
     ]
    },
    {
     "data": {
      "image/png": "[encoded data removed]",
      "text/plain": [
       "<matplotlib.figure.Figure at 0x1a1a1d1b38>"
      ]
     },
     "metadata": {},
     "output_type": "display_data"
    }
   ],
   "source": [
    "# validation curve -ENet\n",
    "from sklearn.model_selection import validation_curve\n",
    "\n",
    "# range to search parameters\n",
    "param_range = np.arange(0.0001, 0.002,0.0002)\n",
    "# dictionary with parameters and range for gride\n",
    "kwargs = dict(param_name='alpha', param_range=param_range)\n",
    "\n",
    "#training and test scores for varying parameter values and k-fold cross validation\n",
    "train_scores, test_scores = validation_curve(ENet, X_train,y_train, **kwargs, cv=5)\n",
    "# take mean over all crossvalidate result(different sample)\n",
    "train_scores_mean = np.mean(train_scores, axis=1)\n",
    "train_scores_std = np.std(train_scores, axis=1)\n",
    "test_scores_mean = np.mean(test_scores, axis=1)\n",
    "test_scores_std = np.std(test_scores, axis=1)\n",
    "print(test_scores_mean)\n",
    "\n",
    "\n",
    "# Train mean and standard deviation\n",
    "\n",
    "plt.figure(figsize=(10,7))\n",
    "plt.plot(param_range, train_scores_mean, color='r')\n",
    "train_y1 = train_scores_mean - train_scores_std\n",
    "train_y2 = train_scores_mean + train_scores_std\n",
    "plt.fill_between(param_range, y1=train_y1, y2=train_y2, color='r', alpha=0.1)\n",
    "\n",
    "# Test mean and standard deviation\n",
    "plt.plot(param_range, test_scores_mean,color='b')\n",
    "test_y1 = test_scores_mean - test_scores_std\n",
    "test_y2 = test_scores_mean + test_scores_std\n",
    "plt.xlabel('lambda',fontsize=15)\n",
    "plt.ylabel('RSquare',fontsize=15)\n",
    "plt.title('Grid Search for ElasticNet parameters', fontsize=20)\n",
    "plt.legend(('Train', 'Validation'),loc='upper right')\n",
    "plt.fill_between(param_range, y1=test_y1, y2=test_y2, color='b', alpha=0.1)\n",
    "plt.savefig('Grid_Enet.png')\n",
    "plt.show()\n",
    "\n",
    "# on x axis , number of k\n",
    "# to choose , two things need to consider, decrepancy and accruracy "
   ]
  },
  {
   "cell_type": "code",
   "execution_count": 144,
   "metadata": {},
   "outputs": [
    {
     "name": "stdout",
     "output_type": "stream",
     "text": [
      "[0.89449016 0.89596625 0.89724704 0.89826117 0.89913376 0.89996416\n",
      " 0.90068845 0.90128116 0.90181848 0.90231457 0.90275123 0.903084\n",
      " 0.90340564 0.90372729 0.90402294 0.90430021 0.90457396 0.9048312\n",
      " 0.90508981 0.90530698 0.9054948  0.90564155 0.90575589 0.90583587\n",
      " 0.90591034 0.90598881 0.90605965 0.90612208 0.90618441 0.90624144\n",
      " 0.90628898 0.90631052 0.90631606 0.90630455 0.90629894 0.90628696\n",
      " 0.90627517 0.90626918 0.90627038 0.90627101 0.90626818 0.90628446\n",
      " 0.90630273 0.906317   0.9063211  0.90632182 0.90632935 0.90632396\n",
      " 0.90631487 0.90629048]\n"
     ]
    },
    {
     "data": {
      "image/png": "[encoded data removed]",
      "text/plain": [
       "<matplotlib.figure.Figure at 0x1a19938860>"
      ]
     },
     "metadata": {},
     "output_type": "display_data"
    }
   ],
   "source": [
    "# validation curve -ENet\n",
    "from sklearn.model_selection import validation_curve\n",
    "\n",
    "\n",
    "ENet = ElasticNet(alpha=0.0005,random_state=1)\n",
    "\n",
    "\n",
    "# range to search parameters\n",
    "param_range = np.arange(0.01, 1,0.02)\n",
    "# dictionary with parameters and range for gride\n",
    "kwargs = dict(param_name='l1_ratio', param_range=param_range)\n",
    "\n",
    "#training and test scores for varying parameter values and k-fold cross validation\n",
    "train_scores, test_scores = validation_curve(ENet, X_train,y_train, **kwargs, cv=5)\n",
    "# take mean over all crossvalidate result(different sample)\n",
    "train_scores_mean = np.mean(train_scores, axis=1)\n",
    "train_scores_std = np.std(train_scores, axis=1)\n",
    "test_scores_mean = np.mean(test_scores, axis=1)\n",
    "test_scores_std = np.std(test_scores, axis=1)\n",
    "print(test_scores_mean)\n",
    "\n",
    "\n",
    "# Train mean and standard deviation\n",
    "\n",
    "plt.figure(figsize=(10,7))\n",
    "plt.plot(param_range, train_scores_mean, color='r')\n",
    "train_y1 = train_scores_mean - train_scores_std\n",
    "train_y2 = train_scores_mean + train_scores_std\n",
    "plt.fill_between(param_range, y1=train_y1, y2=train_y2, color='r', alpha=0.1)\n",
    "\n",
    "# Test mean and standard deviation\n",
    "plt.plot(param_range, test_scores_mean,color='b')\n",
    "test_y1 = test_scores_mean - test_scores_std\n",
    "test_y2 = test_scores_mean + test_scores_std\n",
    "plt.xlabel('ll_ratio',fontsize=15)\n",
    "plt.ylabel('RSquare',fontsize=15)\n",
    "plt.title('Grid Search for ElasticNet parameters', fontsize=20)\n",
    "plt.legend(('Train', 'Validation'),loc='upper right')\n",
    "plt.fill_between(param_range, y1=test_y1, y2=test_y2, color='b', alpha=0.1)\n",
    "plt.savefig('Grid_Enet_llratio.png')\n",
    "plt.show()\n",
    "\n",
    "# on x axis , number of k\n",
    "# to choose , two things need to consider, decrepancy and accruracy "
   ]
  },
  {
   "cell_type": "markdown",
   "metadata": {},
   "source": [
    "# Tree base models"
   ]
  },
  {
   "cell_type": "markdown",
   "metadata": {},
   "source": [
    "## Random forest regression"
   ]
  },
  {
   "cell_type": "code",
   "execution_count": 35,
   "metadata": {},
   "outputs": [
    {
     "name": "stdout",
     "output_type": "stream",
     "text": [
      "Random Forest score (RMSE) : 0.15138 (0.01923)\n",
      "Random Forest R^2 : 0.92192 (0.01633)\n",
      "Random Forest R^2 for test data : 0.8593091820475653\n",
      "train-RMSE: 0.08524241147687833\n",
      "test-RMSE: 0.16100381872577893\n"
     ]
    }
   ],
   "source": [
    "Rand_For=RandomForestRegressor(n_estimators=20,max_depth=10,max_features=30)\n",
    "score=rmse_cv(Rand_For,X_train,y_train) # score with cross validation\n",
    "rsquare=rsquare_cv(Rand_For,X_train,y_train)\n",
    "print('Random Forest score (RMSE) : {:0.5f} ({:0.5f})'.format(score.mean(),score.std()))\n",
    "print('Random Forest R^2 : {:0.5f} ({:0.5f})'.format(rsquare.mean(),rsquare.std()))\n",
    "\n",
    "\n",
    "Rand_For.fit(X_train,y_train)\n",
    "y_pred_train=Rand_For.predict(X_train)\n",
    "y_pred=Rand_For.predict(X_test)\n",
    "print('Random Forest R^2 for test data :', Rand_For.score(X_test, y_test)) # R^2 for the ols model\n",
    "\n",
    "# calculate these metrics by hand!\n",
    "from sklearn import metrics\n",
    "print('train-RMSE:', np.sqrt(metrics.mean_squared_error(y_train,y_pred_train)))\n",
    "print('test-RMSE:', np.sqrt(metrics.mean_squared_error(y_test,y_pred)))\n",
    "\n"
   ]
  },
  {
   "cell_type": "code",
   "execution_count": 36,
   "metadata": {},
   "outputs": [
    {
     "name": "stdout",
     "output_type": "stream",
     "text": [
      "0.8601833040459635\n",
      "{'max_depth': 13, 'max_features': 41, 'n_estimators': 16}\n",
      "RandomForestRegressor(bootstrap=True, criterion='mse', max_depth=13,\n",
      "           max_features=41, max_leaf_nodes=None, min_impurity_decrease=0.0,\n",
      "           min_impurity_split=None, min_samples_leaf=1,\n",
      "           min_samples_split=2, min_weight_fraction_leaf=0.0,\n",
      "           n_estimators=16, n_jobs=1, oob_score=False, random_state=None,\n",
      "           verbose=0, warm_start=False)\n",
      "0.9711553526349941\n"
     ]
    }
   ],
   "source": [
    "# grid search on Randomforest\n",
    "\n",
    "from sklearn.model_selection import GridSearchCV\n",
    "Rand_For=RandomForestRegressor()\n",
    "\n",
    "grid_param2 = [{'n_estimators': np.arange(1,20,3),'max_depth':np.arange(1,20,3),'max_features':np.arange(1,50,10)}]\n",
    "\n",
    "para_search2 = GridSearchCV(Rand_For, grid_param2, cv=10, return_train_score=True)\n",
    "para_search2.fit(X_train,y_train)\n",
    "#para_search2.cv_results_\n",
    "#para_search2.grid_scores_\n",
    "\n",
    "print(para_search2.best_score_)\n",
    "print(para_search2.best_params_)\n",
    "\n",
    "Rand_for_best = para_search2.best_estimator_\n",
    "print(Rand_for_best.fit(X_train,y_train))\n",
    "print(Rand_for_best.score(X_train,y_train))"
   ]
  },
  {
   "cell_type": "code",
   "execution_count": 37,
   "metadata": {},
   "outputs": [
    {
     "name": "stdout",
     "output_type": "stream",
     "text": [
      "[0.65966805 0.84193161 0.85023965 0.85717523 0.85573139 0.8626098\n",
      " 0.86545528 0.86493726 0.86812022 0.86781759]\n"
     ]
    },
    {
     "data": {
      "image/png": "[encoded data removed]",
      "text/plain": [
       "<matplotlib.figure.Figure at 0x1a17424518>"
      ]
     },
     "metadata": {},
     "output_type": "display_data"
    }
   ],
   "source": [
    "# validation curve -Random Forest\n",
    "from sklearn.model_selection import validation_curve\n",
    "\n",
    "# range to search parameters\n",
    "param_range = np.arange(1,50,5)\n",
    "# dictionary with parameters and range for gride\n",
    "kwargs = dict(param_name='n_estimators', param_range=param_range)\n",
    "\n",
    "#training and test scores for varying parameter values and k-fold cross validation\n",
    "train_scores, test_scores = validation_curve(Rand_For, X_train,y_train, **kwargs, cv=5)\n",
    "# take mean over all crossvalidate result(different sample)\n",
    "train_scores_mean = np.mean(train_scores, axis=1)\n",
    "train_scores_std = np.std(train_scores, axis=1)\n",
    "test_scores_mean = np.mean(test_scores, axis=1)\n",
    "test_scores_std = np.std(test_scores, axis=1)\n",
    "print(test_scores_mean)\n",
    "\n",
    "\n",
    "# Train mean and standard deviation\n",
    "\n",
    "plt.figure(figsize=(10,7))\n",
    "plt.plot(param_range, train_scores_mean, color='r')\n",
    "train_y1 = train_scores_mean - train_scores_std\n",
    "train_y2 = train_scores_mean + train_scores_std\n",
    "plt.fill_between(param_range, y1=train_y1, y2=train_y2, color='r', alpha=0.1)\n",
    "\n",
    "# Test mean and standard deviation\n",
    "plt.plot(param_range, test_scores_mean,color='b')\n",
    "test_y1 = test_scores_mean - test_scores_std\n",
    "test_y2 = test_scores_mean + test_scores_std\n",
    "plt.xlabel('n_estimator',fontsize=15)\n",
    "plt.ylabel('RSquare',fontsize=15)\n",
    "plt.title('Grid Search for RandomForest parameters', fontsize=20)\n",
    "plt.legend(('Train', 'Validation'),loc='upper right')\n",
    "plt.fill_between(param_range, y1=test_y1, y2=test_y2, color='b', alpha=0.1)\n",
    "plt.savefig('Rand_for_n_estimator.png')\n",
    "plt.show()\n",
    "\n",
    "# on x axis , number of k\n",
    "# to choose , two things need to consider, decrepancy and accruracy "
   ]
  },
  {
   "cell_type": "markdown",
   "metadata": {},
   "source": [
    "## Bagging regression"
   ]
  },
  {
   "cell_type": "code",
   "execution_count": 38,
   "metadata": {},
   "outputs": [
    {
     "data": {
      "text/plain": [
       "ElasticNetCV(alphas=[0.001], copy_X=True, cv=None, eps=0.001,\n",
       "       fit_intercept=True, l1_ratio=0.5, max_iter=3000, n_alphas=100,\n",
       "       n_jobs=1, normalize=False, positive=False, precompute='auto',\n",
       "       random_state=None, selection='cyclic', tol=0.0001, verbose=0)"
      ]
     },
     "execution_count": 38,
     "metadata": {},
     "output_type": "execute_result"
    }
   ],
   "source": [
    "from sklearn.linear_model import ElasticNetCV\n",
    "\n",
    "elastic_net = ElasticNetCV(alphas=[.001], max_iter=3000).fit(X_train, y_train)\n",
    "elastic_net\n"
   ]
  },
  {
   "cell_type": "code",
   "execution_count": 39,
   "metadata": {},
   "outputs": [
    {
     "name": "stdout",
     "output_type": "stream",
     "text": [
      "Bagging (RMSE) score : 0.11520 (0.01665)\n",
      "Bagging R^2 : 0.95452 (0.01287)\n",
      "Bagging R^2 for test data : 0.9369355383960066\n",
      "train-RMSE: 0.09964030112893764\n",
      "test-RMSE: 0.10779426255971766\n"
     ]
    }
   ],
   "source": [
    "\n",
    "bag = BaggingRegressor(base_estimator=elastic_net, n_estimators=10)\n",
    "score=rmse_cv(bag,X_train,y_train) # score with cross validation\n",
    "rsquare=rsquare_cv(bag,X_train,y_train)\n",
    "print('Bagging (RMSE) score : {:0.5f} ({:0.5f})'.format(score.mean(),score.std()))\n",
    "print('Bagging R^2 : {:0.5f} ({:0.5f})'.format(rsquare.mean(),rsquare.std()))\n",
    "\n",
    "\n",
    "\n",
    "bag.fit(X_train,y_train)\n",
    "y_pred_train=bag.predict(X_train)\n",
    "y_pred=bag.predict(X_test)\n",
    "print('Bagging R^2 for test data :', bag.score(X_test, y_test)) # R^2 for the ols model\n",
    "\n",
    "# calculate these metrics by hand!\n",
    "from sklearn import metrics\n",
    "print('train-RMSE:', np.sqrt(metrics.mean_squared_error(y_train,y_pred_train)))\n",
    "print('test-RMSE:', np.sqrt(metrics.mean_squared_error(y_test,y_pred)))\n"
   ]
  },
  {
   "cell_type": "code",
   "execution_count": 40,
   "metadata": {},
   "outputs": [
    {
     "name": "stdout",
     "output_type": "stream",
     "text": [
      "0.9096810905976711\n",
      "{'n_estimators': 11}\n",
      "BaggingRegressor(base_estimator=ElasticNetCV(alphas=[0.001], copy_X=True, cv=None, eps=0.001,\n",
      "       fit_intercept=True, l1_ratio=0.5, max_iter=3000, n_alphas=100,\n",
      "       n_jobs=1, normalize=False, positive=False, precompute='auto',\n",
      "       random_state=None, selection='cyclic', tol=0.0001, verbose=0),\n",
      "         bootstrap=True, bootstrap_features=False, max_features=1.0,\n",
      "         max_samples=1.0, n_estimators=11, n_jobs=1, oob_score=False,\n",
      "         random_state=None, verbose=0, warm_start=False)\n",
      "0.9364844540632358\n"
     ]
    }
   ],
   "source": [
    "# Grid search Bagging\n",
    "from sklearn.model_selection import GridSearchCV\n",
    "bag = BaggingRegressor(base_estimator=elastic_net)\n",
    "\n",
    "#grid_param2 = [{'n_estimators':np.arange(1,20,2), 'max_samples':np.arange(1,5,1),'max_features':np.arange(1,5,1)}]\n",
    "grid_param2 = [{'n_estimators':np.arange(1,20,2)}]\n",
    "\n",
    "\n",
    "para_search2 = GridSearchCV(bag, grid_param2, cv=5, return_train_score=True)\n",
    "\n",
    "para_search2.fit(X_train,y_train)\n",
    "#para_search2.cv_results_\n",
    "#para_search2.grid_scores_\n",
    "\n",
    "print(para_search2.best_score_)\n",
    "print(para_search2.best_params_)\n",
    "\n",
    "Rand_for_best = para_search2.best_estimator_\n",
    "print(Rand_for_best.fit(X_train,y_train))\n",
    "print(Rand_for_best.score(X_train,y_train))"
   ]
  },
  {
   "cell_type": "code",
   "execution_count": 41,
   "metadata": {},
   "outputs": [
    {
     "name": "stdout",
     "output_type": "stream",
     "text": [
      "[0.89674278 0.90511188 0.90581    0.90741566 0.90950213 0.9083368\n",
      " 0.91015693 0.90891895 0.90889514 0.90819173]\n"
     ]
    },
    {
     "data": {
      "image/png": "[encoded data removed]",
      "text/plain": [
       "<matplotlib.figure.Figure at 0x1a1f50b940>"
      ]
     },
     "metadata": {},
     "output_type": "display_data"
    }
   ],
   "source": [
    "# validation curve -Bagging\n",
    "from sklearn.model_selection import validation_curve\n",
    "\n",
    "bag = BaggingRegressor(base_estimator=elastic_net)\n",
    "\n",
    "# range to search parameters\n",
    "param_range = np.arange(1,20,2)\n",
    "# dictionary with parameters and range for gride\n",
    "kwargs = dict(param_name='n_estimators', param_range=param_range)\n",
    "\n",
    "#training and test scores for varying parameter values and k-fold cross validation\n",
    "train_scores, test_scores = validation_curve(bag, X_train,y_train, **kwargs, cv=5)\n",
    "# take mean over all crossvalidate result(different sample)\n",
    "train_scores_mean = np.mean(train_scores, axis=1)\n",
    "train_scores_std = np.std(train_scores, axis=1)\n",
    "test_scores_mean = np.mean(test_scores, axis=1)\n",
    "test_scores_std = np.std(test_scores, axis=1)\n",
    "print(test_scores_mean)\n",
    "\n",
    "\n",
    "# Train mean and standard deviation\n",
    "\n",
    "plt.figure(figsize=(10,7))\n",
    "plt.plot(param_range, train_scores_mean, color='r')\n",
    "train_y1 = train_scores_mean - train_scores_std\n",
    "train_y2 = train_scores_mean + train_scores_std\n",
    "plt.fill_between(param_range, y1=train_y1, y2=train_y2, color='r', alpha=0.1)\n",
    "\n",
    "# Test mean and standard deviation\n",
    "plt.plot(param_range, test_scores_mean,color='b')\n",
    "test_y1 = test_scores_mean - test_scores_std\n",
    "test_y2 = test_scores_mean + test_scores_std\n",
    "plt.xlabel('n_estimator',fontsize=15)\n",
    "plt.ylabel('RSquare',fontsize=15)\n",
    "plt.title('Grid Search for Bagging parameters', fontsize=20)\n",
    "plt.legend(('Train', 'Validation'),loc='upper right')\n",
    "plt.fill_between(param_range, y1=test_y1, y2=test_y2, color='b', alpha=0.1)\n",
    "plt.savefig('Bagging_n_estimator.png')\n",
    "plt.show()\n",
    "\n",
    "# on x axis , number of k\n",
    "# to choose , two things need to consider, decrepancy and accruracy "
   ]
  },
  {
   "cell_type": "code",
   "execution_count": 42,
   "metadata": {},
   "outputs": [
    {
     "name": "stdout",
     "output_type": "stream",
     "text": [
      "[0.0948668  0.67987107 0.81005719 0.84186487 0.87777631]\n"
     ]
    },
    {
     "data": {
      "image/png": "[encoded data removed]",
      "text/plain": [
       "<matplotlib.figure.Figure at 0x1a1824e320>"
      ]
     },
     "metadata": {},
     "output_type": "display_data"
    }
   ],
   "source": [
    "# validation curve -Bagging ( max-features)\n",
    "\n",
    "from sklearn.model_selection import validation_curve\n",
    "#bag = BaggingRegressor()\n",
    "\n",
    "\n",
    "# range to search parameters\n",
    "param_range = np.arange(1,100,20)\n",
    "# dictionary with parameters and range for gride\n",
    "kwargs = dict(param_name='max_features', param_range=param_range)\n",
    "\n",
    "#training and test scores for varying parameter values and k-fold cross validation\n",
    "train_scores, test_scores = validation_curve(bag, X_train,y_train, **kwargs, cv=5)\n",
    "# take mean over all crossvalidate result(different sample)\n",
    "train_scores_mean = np.mean(train_scores, axis=1)\n",
    "train_scores_std = np.std(train_scores, axis=1)\n",
    "test_scores_mean = np.mean(test_scores, axis=1)\n",
    "test_scores_std = np.std(test_scores, axis=1)\n",
    "print(test_scores_mean)\n",
    "\n",
    "\n",
    "# Train mean and standard deviation\n",
    "\n",
    "plt.figure(figsize=(10,7))\n",
    "plt.plot(param_range, train_scores_mean, color='r')\n",
    "train_y1 = train_scores_mean - train_scores_std\n",
    "train_y2 = train_scores_mean + train_scores_std\n",
    "plt.fill_between(param_range, y1=train_y1, y2=train_y2, color='r', alpha=0.1)\n",
    "\n",
    "# Test mean and standard deviation\n",
    "plt.plot(param_range, test_scores_mean,color='b')\n",
    "test_y1 = test_scores_mean - test_scores_std\n",
    "test_y2 = test_scores_mean + test_scores_std\n",
    "plt.xlabel('max features',fontsize=15)\n",
    "plt.ylabel('RSquare',fontsize=15)\n",
    "plt.title('Grid Search for Bagging parameters', fontsize=20)\n",
    "plt.legend(('Train', 'Validation'),loc='upper right')\n",
    "plt.fill_between(param_range, y1=test_y1, y2=test_y2, color='b', alpha=0.1)\n",
    "plt.savefig('Bagging_max_features.png')\n",
    "plt.show()\n",
    "\n",
    "# on x axis , number of k\n",
    "# to choose , two things need to consider, decrepancy and accruracy "
   ]
  },
  {
   "cell_type": "code",
   "execution_count": 43,
   "metadata": {},
   "outputs": [
    {
     "name": "stdout",
     "output_type": "stream",
     "text": [
      "[-0.12100976  0.70249944  0.77148412  0.77670964  0.80060053  0.80559226\n",
      "  0.8195795   0.81992476  0.81878071  0.81709071]\n"
     ]
    },
    {
     "data": {
      "image/png": "[encoded data removed]",
      "text/plain": [
       "<matplotlib.figure.Figure at 0x1a18ac0128>"
      ]
     },
     "metadata": {},
     "output_type": "display_data"
    }
   ],
   "source": [
    "# validation curve -Bagging ( max-sample)\n",
    "\n",
    "from sklearn.model_selection import validation_curve\n",
    "bag = BaggingRegressor()\n",
    "\n",
    "# range to search parameters\n",
    "param_range = np.arange(1,300,30)\n",
    "# dictionary with parameters and range for gride\n",
    "kwargs = dict(param_name='max_samples', param_range=param_range)\n",
    "\n",
    "#training and test scores for varying parameter values and k-fold cross validation\n",
    "train_scores, test_scores = validation_curve(bag, X_train,y_train, **kwargs, cv=5)\n",
    "# take mean over all crossvalidate result(different sample)\n",
    "train_scores_mean = np.mean(train_scores, axis=1)\n",
    "train_scores_std = np.std(train_scores, axis=1)\n",
    "test_scores_mean = np.mean(test_scores, axis=1)\n",
    "test_scores_std = np.std(test_scores, axis=1)\n",
    "print(test_scores_mean)\n",
    "\n",
    "\n",
    "# Train mean and standard deviation\n",
    "\n",
    "plt.figure(figsize=(10,7))\n",
    "plt.plot(param_range, train_scores_mean, color='r')\n",
    "train_y1 = train_scores_mean - train_scores_std\n",
    "train_y2 = train_scores_mean + train_scores_std\n",
    "plt.fill_between(param_range, y1=train_y1, y2=train_y2, color='r', alpha=0.1)\n",
    "\n",
    "# Test mean and standard deviation\n",
    "plt.plot(param_range, test_scores_mean,color='b')\n",
    "test_y1 = test_scores_mean - test_scores_std\n",
    "test_y2 = test_scores_mean + test_scores_std\n",
    "plt.xlabel('max sample',fontsize=15)\n",
    "plt.ylabel('RSquare',fontsize=15)\n",
    "plt.title('Grid Search for Bagging parameters', fontsize=20)\n",
    "plt.legend(('Train', 'Validation'),loc='upper right')\n",
    "plt.fill_between(param_range, y1=test_y1, y2=test_y2, color='b', alpha=0.1)\n",
    "plt.savefig('Bagging_max_sample.png')\n",
    "plt.show()\n",
    "\n",
    "# on x axis , number of k\n",
    "# to choose , two things need to consider, decrepancy and accruracy "
   ]
  },
  {
   "cell_type": "markdown",
   "metadata": {},
   "source": [
    "## Boosting regression"
   ]
  },
  {
   "cell_type": "code",
   "execution_count": 44,
   "metadata": {},
   "outputs": [],
   "source": [
    "#gboost = GradientBoostingRegressor(n_estimators=1000, learning_rate=0.085,max_depth=2, max_features=10,loss=\"huber\")"
   ]
  },
  {
   "cell_type": "code",
   "execution_count": 45,
   "metadata": {},
   "outputs": [
    {
     "name": "stdout",
     "output_type": "stream",
     "text": [
      "Gradient boost score (RMSE) : 0.12884 (0.01650)\n",
      "Gradiaent boost R^2 : 0.94370 (0.01435)\n",
      "Bagging R^2 for test data : 0.9091288454968746\n",
      "train-RMSE: 0.08228369588406617\n",
      "test-RMSE: 0.1293946506659553\n"
     ]
    }
   ],
   "source": [
    "#gboost = GradientBoostingRegressor(n_estimators=1000, learning_rate=0.085,max_depth=2, max_features=10,loss=\"huber\")\n",
    "gboost = GradientBoostingRegressor()\n",
    "score=rmse_cv(gboost,X_train,y_train) # score with cross validation\n",
    "rsquare=rsquare_cv(gboost,X_train,y_train)\n",
    "print('Gradient boost score (RMSE) : {:0.5f} ({:0.5f})'.format(score.mean(),score.std()))\n",
    "print('Gradiaent boost R^2 : {:0.5f} ({:0.5f})'.format(rsquare.mean(),rsquare.std()))\n",
    "\n",
    "\n",
    "\n",
    "gboost.fit(X_train,y_train)\n",
    "y_pred_train=gboost.predict(X_train)\n",
    "y_pred=gboost.predict(X_test)\n",
    "print('Bagging R^2 for test data :', gboost.score(X_test, y_test)) # R^2 for the ols model\n",
    "\n",
    "# calculate these metrics by hand!\n",
    "from sklearn import metrics\n",
    "print('train-RMSE:', np.sqrt(metrics.mean_squared_error(y_train,y_pred_train)))\n",
    "print('test-RMSE:', np.sqrt(metrics.mean_squared_error(y_test,y_pred)))\n",
    "\n"
   ]
  },
  {
   "cell_type": "code",
   "execution_count": 46,
   "metadata": {},
   "outputs": [
    {
     "ename": "KeyboardInterrupt",
     "evalue": "",
     "output_type": "error",
     "traceback": [
      "\u001b[0;31m---------------------------------------------------------------------------\u001b[0m",
      "\u001b[0;31mKeyboardInterrupt\u001b[0m                         Traceback (most recent call last)",
      "\u001b[0;32m<ipython-input-46-83530cd91dce>\u001b[0m in \u001b[0;36m<module>\u001b[0;34m()\u001b[0m\n\u001b[1;32m      7\u001b[0m \u001b[0mpara_search2\u001b[0m \u001b[0;34m=\u001b[0m \u001b[0mGridSearchCV\u001b[0m\u001b[0;34m(\u001b[0m\u001b[0mgboost\u001b[0m\u001b[0;34m,\u001b[0m \u001b[0mgrid_param2\u001b[0m\u001b[0;34m,\u001b[0m \u001b[0mcv\u001b[0m\u001b[0;34m=\u001b[0m\u001b[0;36m5\u001b[0m\u001b[0;34m,\u001b[0m \u001b[0mreturn_train_score\u001b[0m\u001b[0;34m=\u001b[0m\u001b[0;32mTrue\u001b[0m\u001b[0;34m)\u001b[0m\u001b[0;34m\u001b[0m\u001b[0m\n\u001b[1;32m      8\u001b[0m \u001b[0;34m\u001b[0m\u001b[0m\n\u001b[0;32m----> 9\u001b[0;31m \u001b[0mpara_search2\u001b[0m\u001b[0;34m.\u001b[0m\u001b[0mfit\u001b[0m\u001b[0;34m(\u001b[0m\u001b[0mX_train\u001b[0m\u001b[0;34m,\u001b[0m\u001b[0my_train\u001b[0m\u001b[0;34m)\u001b[0m\u001b[0;34m\u001b[0m\u001b[0m\n\u001b[0m\u001b[1;32m     10\u001b[0m \u001b[0;31m#para_search2.cv_results_\u001b[0m\u001b[0;34m\u001b[0m\u001b[0;34m\u001b[0m\u001b[0m\n\u001b[1;32m     11\u001b[0m \u001b[0;31m#para_search2.grid_scores_\u001b[0m\u001b[0;34m\u001b[0m\u001b[0;34m\u001b[0m\u001b[0m\n",
      "\u001b[0;32m/anaconda3/lib/python3.6/site-packages/sklearn/model_selection/_search.py\u001b[0m in \u001b[0;36mfit\u001b[0;34m(self, X, y, groups, **fit_params)\u001b[0m\n\u001b[1;32m    637\u001b[0m                                   error_score=self.error_score)\n\u001b[1;32m    638\u001b[0m           for parameters, (train, test) in product(candidate_params,\n\u001b[0;32m--> 639\u001b[0;31m                                                    cv.split(X, y, groups)))\n\u001b[0m\u001b[1;32m    640\u001b[0m \u001b[0;34m\u001b[0m\u001b[0m\n\u001b[1;32m    641\u001b[0m         \u001b[0;31m# if one choose to see train score, \"out\" will contain train score info\u001b[0m\u001b[0;34m\u001b[0m\u001b[0;34m\u001b[0m\u001b[0m\n",
      "\u001b[0;32m/anaconda3/lib/python3.6/site-packages/sklearn/externals/joblib/parallel.py\u001b[0m in \u001b[0;36m__call__\u001b[0;34m(self, iterable)\u001b[0m\n\u001b[1;32m    777\u001b[0m             \u001b[0;31m# was dispatched. In particular this covers the edge\u001b[0m\u001b[0;34m\u001b[0m\u001b[0;34m\u001b[0m\u001b[0m\n\u001b[1;32m    778\u001b[0m             \u001b[0;31m# case of Parallel used with an exhausted iterator.\u001b[0m\u001b[0;34m\u001b[0m\u001b[0;34m\u001b[0m\u001b[0m\n\u001b[0;32m--> 779\u001b[0;31m             \u001b[0;32mwhile\u001b[0m \u001b[0mself\u001b[0m\u001b[0;34m.\u001b[0m\u001b[0mdispatch_one_batch\u001b[0m\u001b[0;34m(\u001b[0m\u001b[0miterator\u001b[0m\u001b[0;34m)\u001b[0m\u001b[0;34m:\u001b[0m\u001b[0;34m\u001b[0m\u001b[0m\n\u001b[0m\u001b[1;32m    780\u001b[0m                 \u001b[0mself\u001b[0m\u001b[0;34m.\u001b[0m\u001b[0m_iterating\u001b[0m \u001b[0;34m=\u001b[0m \u001b[0;32mTrue\u001b[0m\u001b[0;34m\u001b[0m\u001b[0m\n\u001b[1;32m    781\u001b[0m             \u001b[0;32melse\u001b[0m\u001b[0;34m:\u001b[0m\u001b[0;34m\u001b[0m\u001b[0m\n",
      "\u001b[0;32m/anaconda3/lib/python3.6/site-packages/sklearn/externals/joblib/parallel.py\u001b[0m in \u001b[0;36mdispatch_one_batch\u001b[0;34m(self, iterator)\u001b[0m\n\u001b[1;32m    623\u001b[0m                 \u001b[0;32mreturn\u001b[0m \u001b[0;32mFalse\u001b[0m\u001b[0;34m\u001b[0m\u001b[0m\n\u001b[1;32m    624\u001b[0m             \u001b[0;32melse\u001b[0m\u001b[0;34m:\u001b[0m\u001b[0;34m\u001b[0m\u001b[0m\n\u001b[0;32m--> 625\u001b[0;31m                 \u001b[0mself\u001b[0m\u001b[0;34m.\u001b[0m\u001b[0m_dispatch\u001b[0m\u001b[0;34m(\u001b[0m\u001b[0mtasks\u001b[0m\u001b[0;34m)\u001b[0m\u001b[0;34m\u001b[0m\u001b[0m\n\u001b[0m\u001b[1;32m    626\u001b[0m                 \u001b[0;32mreturn\u001b[0m \u001b[0;32mTrue\u001b[0m\u001b[0;34m\u001b[0m\u001b[0m\n\u001b[1;32m    627\u001b[0m \u001b[0;34m\u001b[0m\u001b[0m\n",
      "\u001b[0;32m/anaconda3/lib/python3.6/site-packages/sklearn/externals/joblib/parallel.py\u001b[0m in \u001b[0;36m_dispatch\u001b[0;34m(self, batch)\u001b[0m\n\u001b[1;32m    586\u001b[0m         \u001b[0mdispatch_timestamp\u001b[0m \u001b[0;34m=\u001b[0m \u001b[0mtime\u001b[0m\u001b[0;34m.\u001b[0m\u001b[0mtime\u001b[0m\u001b[0;34m(\u001b[0m\u001b[0;34m)\u001b[0m\u001b[0;34m\u001b[0m\u001b[0m\n\u001b[1;32m    587\u001b[0m         \u001b[0mcb\u001b[0m \u001b[0;34m=\u001b[0m \u001b[0mBatchCompletionCallBack\u001b[0m\u001b[0;34m(\u001b[0m\u001b[0mdispatch_timestamp\u001b[0m\u001b[0;34m,\u001b[0m \u001b[0mlen\u001b[0m\u001b[0;34m(\u001b[0m\u001b[0mbatch\u001b[0m\u001b[0;34m)\u001b[0m\u001b[0;34m,\u001b[0m \u001b[0mself\u001b[0m\u001b[0;34m)\u001b[0m\u001b[0;34m\u001b[0m\u001b[0m\n\u001b[0;32m--> 588\u001b[0;31m         \u001b[0mjob\u001b[0m \u001b[0;34m=\u001b[0m \u001b[0mself\u001b[0m\u001b[0;34m.\u001b[0m\u001b[0m_backend\u001b[0m\u001b[0;34m.\u001b[0m\u001b[0mapply_async\u001b[0m\u001b[0;34m(\u001b[0m\u001b[0mbatch\u001b[0m\u001b[0;34m,\u001b[0m \u001b[0mcallback\u001b[0m\u001b[0;34m=\u001b[0m\u001b[0mcb\u001b[0m\u001b[0;34m)\u001b[0m\u001b[0;34m\u001b[0m\u001b[0m\n\u001b[0m\u001b[1;32m    589\u001b[0m         \u001b[0mself\u001b[0m\u001b[0;34m.\u001b[0m\u001b[0m_jobs\u001b[0m\u001b[0;34m.\u001b[0m\u001b[0mappend\u001b[0m\u001b[0;34m(\u001b[0m\u001b[0mjob\u001b[0m\u001b[0;34m)\u001b[0m\u001b[0;34m\u001b[0m\u001b[0m\n\u001b[1;32m    590\u001b[0m \u001b[0;34m\u001b[0m\u001b[0m\n",
      "\u001b[0;32m/anaconda3/lib/python3.6/site-packages/sklearn/externals/joblib/_parallel_backends.py\u001b[0m in \u001b[0;36mapply_async\u001b[0;34m(self, func, callback)\u001b[0m\n\u001b[1;32m    109\u001b[0m     \u001b[0;32mdef\u001b[0m \u001b[0mapply_async\u001b[0m\u001b[0;34m(\u001b[0m\u001b[0mself\u001b[0m\u001b[0;34m,\u001b[0m \u001b[0mfunc\u001b[0m\u001b[0;34m,\u001b[0m \u001b[0mcallback\u001b[0m\u001b[0;34m=\u001b[0m\u001b[0;32mNone\u001b[0m\u001b[0;34m)\u001b[0m\u001b[0;34m:\u001b[0m\u001b[0;34m\u001b[0m\u001b[0m\n\u001b[1;32m    110\u001b[0m         \u001b[0;34m\"\"\"Schedule a func to be run\"\"\"\u001b[0m\u001b[0;34m\u001b[0m\u001b[0m\n\u001b[0;32m--> 111\u001b[0;31m         \u001b[0mresult\u001b[0m \u001b[0;34m=\u001b[0m \u001b[0mImmediateResult\u001b[0m\u001b[0;34m(\u001b[0m\u001b[0mfunc\u001b[0m\u001b[0;34m)\u001b[0m\u001b[0;34m\u001b[0m\u001b[0m\n\u001b[0m\u001b[1;32m    112\u001b[0m         \u001b[0;32mif\u001b[0m \u001b[0mcallback\u001b[0m\u001b[0;34m:\u001b[0m\u001b[0;34m\u001b[0m\u001b[0m\n\u001b[1;32m    113\u001b[0m             \u001b[0mcallback\u001b[0m\u001b[0;34m(\u001b[0m\u001b[0mresult\u001b[0m\u001b[0;34m)\u001b[0m\u001b[0;34m\u001b[0m\u001b[0m\n",
      "\u001b[0;32m/anaconda3/lib/python3.6/site-packages/sklearn/externals/joblib/_parallel_backends.py\u001b[0m in \u001b[0;36m__init__\u001b[0;34m(self, batch)\u001b[0m\n\u001b[1;32m    330\u001b[0m         \u001b[0;31m# Don't delay the application, to avoid keeping the input\u001b[0m\u001b[0;34m\u001b[0m\u001b[0;34m\u001b[0m\u001b[0m\n\u001b[1;32m    331\u001b[0m         \u001b[0;31m# arguments in memory\u001b[0m\u001b[0;34m\u001b[0m\u001b[0;34m\u001b[0m\u001b[0m\n\u001b[0;32m--> 332\u001b[0;31m         \u001b[0mself\u001b[0m\u001b[0;34m.\u001b[0m\u001b[0mresults\u001b[0m \u001b[0;34m=\u001b[0m \u001b[0mbatch\u001b[0m\u001b[0;34m(\u001b[0m\u001b[0;34m)\u001b[0m\u001b[0;34m\u001b[0m\u001b[0m\n\u001b[0m\u001b[1;32m    333\u001b[0m \u001b[0;34m\u001b[0m\u001b[0m\n\u001b[1;32m    334\u001b[0m     \u001b[0;32mdef\u001b[0m \u001b[0mget\u001b[0m\u001b[0;34m(\u001b[0m\u001b[0mself\u001b[0m\u001b[0;34m)\u001b[0m\u001b[0;34m:\u001b[0m\u001b[0;34m\u001b[0m\u001b[0m\n",
      "\u001b[0;32m/anaconda3/lib/python3.6/site-packages/sklearn/externals/joblib/parallel.py\u001b[0m in \u001b[0;36m__call__\u001b[0;34m(self)\u001b[0m\n\u001b[1;32m    129\u001b[0m \u001b[0;34m\u001b[0m\u001b[0m\n\u001b[1;32m    130\u001b[0m     \u001b[0;32mdef\u001b[0m \u001b[0m__call__\u001b[0m\u001b[0;34m(\u001b[0m\u001b[0mself\u001b[0m\u001b[0;34m)\u001b[0m\u001b[0;34m:\u001b[0m\u001b[0;34m\u001b[0m\u001b[0m\n\u001b[0;32m--> 131\u001b[0;31m         \u001b[0;32mreturn\u001b[0m \u001b[0;34m[\u001b[0m\u001b[0mfunc\u001b[0m\u001b[0;34m(\u001b[0m\u001b[0;34m*\u001b[0m\u001b[0margs\u001b[0m\u001b[0;34m,\u001b[0m \u001b[0;34m**\u001b[0m\u001b[0mkwargs\u001b[0m\u001b[0;34m)\u001b[0m \u001b[0;32mfor\u001b[0m \u001b[0mfunc\u001b[0m\u001b[0;34m,\u001b[0m \u001b[0margs\u001b[0m\u001b[0;34m,\u001b[0m \u001b[0mkwargs\u001b[0m \u001b[0;32min\u001b[0m \u001b[0mself\u001b[0m\u001b[0;34m.\u001b[0m\u001b[0mitems\u001b[0m\u001b[0;34m]\u001b[0m\u001b[0;34m\u001b[0m\u001b[0m\n\u001b[0m\u001b[1;32m    132\u001b[0m \u001b[0;34m\u001b[0m\u001b[0m\n\u001b[1;32m    133\u001b[0m     \u001b[0;32mdef\u001b[0m \u001b[0m__len__\u001b[0m\u001b[0;34m(\u001b[0m\u001b[0mself\u001b[0m\u001b[0;34m)\u001b[0m\u001b[0;34m:\u001b[0m\u001b[0;34m\u001b[0m\u001b[0m\n",
      "\u001b[0;32m/anaconda3/lib/python3.6/site-packages/sklearn/externals/joblib/parallel.py\u001b[0m in \u001b[0;36m<listcomp>\u001b[0;34m(.0)\u001b[0m\n\u001b[1;32m    129\u001b[0m \u001b[0;34m\u001b[0m\u001b[0m\n\u001b[1;32m    130\u001b[0m     \u001b[0;32mdef\u001b[0m \u001b[0m__call__\u001b[0m\u001b[0;34m(\u001b[0m\u001b[0mself\u001b[0m\u001b[0;34m)\u001b[0m\u001b[0;34m:\u001b[0m\u001b[0;34m\u001b[0m\u001b[0m\n\u001b[0;32m--> 131\u001b[0;31m         \u001b[0;32mreturn\u001b[0m \u001b[0;34m[\u001b[0m\u001b[0mfunc\u001b[0m\u001b[0;34m(\u001b[0m\u001b[0;34m*\u001b[0m\u001b[0margs\u001b[0m\u001b[0;34m,\u001b[0m \u001b[0;34m**\u001b[0m\u001b[0mkwargs\u001b[0m\u001b[0;34m)\u001b[0m \u001b[0;32mfor\u001b[0m \u001b[0mfunc\u001b[0m\u001b[0;34m,\u001b[0m \u001b[0margs\u001b[0m\u001b[0;34m,\u001b[0m \u001b[0mkwargs\u001b[0m \u001b[0;32min\u001b[0m \u001b[0mself\u001b[0m\u001b[0;34m.\u001b[0m\u001b[0mitems\u001b[0m\u001b[0;34m]\u001b[0m\u001b[0;34m\u001b[0m\u001b[0m\n\u001b[0m\u001b[1;32m    132\u001b[0m \u001b[0;34m\u001b[0m\u001b[0m\n\u001b[1;32m    133\u001b[0m     \u001b[0;32mdef\u001b[0m \u001b[0m__len__\u001b[0m\u001b[0;34m(\u001b[0m\u001b[0mself\u001b[0m\u001b[0;34m)\u001b[0m\u001b[0;34m:\u001b[0m\u001b[0;34m\u001b[0m\u001b[0m\n",
      "\u001b[0;32m/anaconda3/lib/python3.6/site-packages/sklearn/model_selection/_validation.py\u001b[0m in \u001b[0;36m_fit_and_score\u001b[0;34m(estimator, X, y, scorer, train, test, verbose, parameters, fit_params, return_train_score, return_parameters, return_n_test_samples, return_times, error_score)\u001b[0m\n\u001b[1;32m    490\u001b[0m         \u001b[0;32mif\u001b[0m \u001b[0mreturn_train_score\u001b[0m\u001b[0;34m:\u001b[0m\u001b[0;34m\u001b[0m\u001b[0m\n\u001b[1;32m    491\u001b[0m             train_scores = _score(estimator, X_train, y_train, scorer,\n\u001b[0;32m--> 492\u001b[0;31m                                   is_multimetric)\n\u001b[0m\u001b[1;32m    493\u001b[0m \u001b[0;34m\u001b[0m\u001b[0m\n\u001b[1;32m    494\u001b[0m     \u001b[0;32mif\u001b[0m \u001b[0mverbose\u001b[0m \u001b[0;34m>\u001b[0m \u001b[0;36m2\u001b[0m\u001b[0;34m:\u001b[0m\u001b[0;34m\u001b[0m\u001b[0m\n",
      "\u001b[0;32m/anaconda3/lib/python3.6/site-packages/sklearn/model_selection/_validation.py\u001b[0m in \u001b[0;36m_score\u001b[0;34m(estimator, X_test, y_test, scorer, is_multimetric)\u001b[0m\n\u001b[1;32m    521\u001b[0m     \"\"\"\n\u001b[1;32m    522\u001b[0m     \u001b[0;32mif\u001b[0m \u001b[0mis_multimetric\u001b[0m\u001b[0;34m:\u001b[0m\u001b[0;34m\u001b[0m\u001b[0m\n\u001b[0;32m--> 523\u001b[0;31m         \u001b[0;32mreturn\u001b[0m \u001b[0m_multimetric_score\u001b[0m\u001b[0;34m(\u001b[0m\u001b[0mestimator\u001b[0m\u001b[0;34m,\u001b[0m \u001b[0mX_test\u001b[0m\u001b[0;34m,\u001b[0m \u001b[0my_test\u001b[0m\u001b[0;34m,\u001b[0m \u001b[0mscorer\u001b[0m\u001b[0;34m)\u001b[0m\u001b[0;34m\u001b[0m\u001b[0m\n\u001b[0m\u001b[1;32m    524\u001b[0m     \u001b[0;32melse\u001b[0m\u001b[0;34m:\u001b[0m\u001b[0;34m\u001b[0m\u001b[0m\n\u001b[1;32m    525\u001b[0m         \u001b[0;32mif\u001b[0m \u001b[0my_test\u001b[0m \u001b[0;32mis\u001b[0m \u001b[0;32mNone\u001b[0m\u001b[0;34m:\u001b[0m\u001b[0;34m\u001b[0m\u001b[0m\n",
      "\u001b[0;32m/anaconda3/lib/python3.6/site-packages/sklearn/model_selection/_validation.py\u001b[0m in \u001b[0;36m_multimetric_score\u001b[0;34m(estimator, X_test, y_test, scorers)\u001b[0m\n\u001b[1;32m    551\u001b[0m             \u001b[0mscore\u001b[0m \u001b[0;34m=\u001b[0m \u001b[0mscorer\u001b[0m\u001b[0;34m(\u001b[0m\u001b[0mestimator\u001b[0m\u001b[0;34m,\u001b[0m \u001b[0mX_test\u001b[0m\u001b[0;34m)\u001b[0m\u001b[0;34m\u001b[0m\u001b[0m\n\u001b[1;32m    552\u001b[0m         \u001b[0;32melse\u001b[0m\u001b[0;34m:\u001b[0m\u001b[0;34m\u001b[0m\u001b[0m\n\u001b[0;32m--> 553\u001b[0;31m             \u001b[0mscore\u001b[0m \u001b[0;34m=\u001b[0m \u001b[0mscorer\u001b[0m\u001b[0;34m(\u001b[0m\u001b[0mestimator\u001b[0m\u001b[0;34m,\u001b[0m \u001b[0mX_test\u001b[0m\u001b[0;34m,\u001b[0m \u001b[0my_test\u001b[0m\u001b[0;34m)\u001b[0m\u001b[0;34m\u001b[0m\u001b[0m\n\u001b[0m\u001b[1;32m    554\u001b[0m \u001b[0;34m\u001b[0m\u001b[0m\n\u001b[1;32m    555\u001b[0m         \u001b[0;32mif\u001b[0m \u001b[0mhasattr\u001b[0m\u001b[0;34m(\u001b[0m\u001b[0mscore\u001b[0m\u001b[0;34m,\u001b[0m \u001b[0;34m'item'\u001b[0m\u001b[0;34m)\u001b[0m\u001b[0;34m:\u001b[0m\u001b[0;34m\u001b[0m\u001b[0m\n",
      "\u001b[0;32m/anaconda3/lib/python3.6/site-packages/sklearn/metrics/scorer.py\u001b[0m in \u001b[0;36m_passthrough_scorer\u001b[0;34m(estimator, *args, **kwargs)\u001b[0m\n\u001b[1;32m    242\u001b[0m \u001b[0;32mdef\u001b[0m \u001b[0m_passthrough_scorer\u001b[0m\u001b[0;34m(\u001b[0m\u001b[0mestimator\u001b[0m\u001b[0;34m,\u001b[0m \u001b[0;34m*\u001b[0m\u001b[0margs\u001b[0m\u001b[0;34m,\u001b[0m \u001b[0;34m**\u001b[0m\u001b[0mkwargs\u001b[0m\u001b[0;34m)\u001b[0m\u001b[0;34m:\u001b[0m\u001b[0;34m\u001b[0m\u001b[0m\n\u001b[1;32m    243\u001b[0m     \u001b[0;34m\"\"\"Function that wraps estimator.score\"\"\"\u001b[0m\u001b[0;34m\u001b[0m\u001b[0m\n\u001b[0;32m--> 244\u001b[0;31m     \u001b[0;32mreturn\u001b[0m \u001b[0mestimator\u001b[0m\u001b[0;34m.\u001b[0m\u001b[0mscore\u001b[0m\u001b[0;34m(\u001b[0m\u001b[0;34m*\u001b[0m\u001b[0margs\u001b[0m\u001b[0;34m,\u001b[0m \u001b[0;34m**\u001b[0m\u001b[0mkwargs\u001b[0m\u001b[0;34m)\u001b[0m\u001b[0;34m\u001b[0m\u001b[0m\n\u001b[0m\u001b[1;32m    245\u001b[0m \u001b[0;34m\u001b[0m\u001b[0m\n\u001b[1;32m    246\u001b[0m \u001b[0;34m\u001b[0m\u001b[0m\n",
      "\u001b[0;32m/anaconda3/lib/python3.6/site-packages/sklearn/base.py\u001b[0m in \u001b[0;36mscore\u001b[0;34m(self, X, y, sample_weight)\u001b[0m\n\u001b[1;32m    384\u001b[0m \u001b[0;34m\u001b[0m\u001b[0m\n\u001b[1;32m    385\u001b[0m         \u001b[0;32mfrom\u001b[0m \u001b[0;34m.\u001b[0m\u001b[0mmetrics\u001b[0m \u001b[0;32mimport\u001b[0m \u001b[0mr2_score\u001b[0m\u001b[0;34m\u001b[0m\u001b[0m\n\u001b[0;32m--> 386\u001b[0;31m         return r2_score(y, self.predict(X), sample_weight=sample_weight,\n\u001b[0m\u001b[1;32m    387\u001b[0m                         multioutput='variance_weighted')\n\u001b[1;32m    388\u001b[0m \u001b[0;34m\u001b[0m\u001b[0m\n",
      "\u001b[0;32m/anaconda3/lib/python3.6/site-packages/sklearn/ensemble/gradient_boosting.py\u001b[0m in \u001b[0;36mpredict\u001b[0;34m(self, X)\u001b[0m\n\u001b[1;32m   1890\u001b[0m         \"\"\"\n\u001b[1;32m   1891\u001b[0m         \u001b[0mX\u001b[0m \u001b[0;34m=\u001b[0m \u001b[0mcheck_array\u001b[0m\u001b[0;34m(\u001b[0m\u001b[0mX\u001b[0m\u001b[0;34m,\u001b[0m \u001b[0mdtype\u001b[0m\u001b[0;34m=\u001b[0m\u001b[0mDTYPE\u001b[0m\u001b[0;34m,\u001b[0m \u001b[0morder\u001b[0m\u001b[0;34m=\u001b[0m\u001b[0;34m\"C\"\u001b[0m\u001b[0;34m,\u001b[0m  \u001b[0maccept_sparse\u001b[0m\u001b[0;34m=\u001b[0m\u001b[0;34m'csr'\u001b[0m\u001b[0;34m)\u001b[0m\u001b[0;34m\u001b[0m\u001b[0m\n\u001b[0;32m-> 1892\u001b[0;31m         \u001b[0;32mreturn\u001b[0m \u001b[0mself\u001b[0m\u001b[0;34m.\u001b[0m\u001b[0m_decision_function\u001b[0m\u001b[0;34m(\u001b[0m\u001b[0mX\u001b[0m\u001b[0;34m)\u001b[0m\u001b[0;34m.\u001b[0m\u001b[0mravel\u001b[0m\u001b[0;34m(\u001b[0m\u001b[0;34m)\u001b[0m\u001b[0;34m\u001b[0m\u001b[0m\n\u001b[0m\u001b[1;32m   1893\u001b[0m \u001b[0;34m\u001b[0m\u001b[0m\n\u001b[1;32m   1894\u001b[0m     \u001b[0;32mdef\u001b[0m \u001b[0mstaged_predict\u001b[0m\u001b[0;34m(\u001b[0m\u001b[0mself\u001b[0m\u001b[0;34m,\u001b[0m \u001b[0mX\u001b[0m\u001b[0;34m)\u001b[0m\u001b[0;34m:\u001b[0m\u001b[0;34m\u001b[0m\u001b[0m\n",
      "\u001b[0;32m/anaconda3/lib/python3.6/site-packages/sklearn/ensemble/gradient_boosting.py\u001b[0m in \u001b[0;36m_decision_function\u001b[0;34m(self, X)\u001b[0m\n\u001b[1;32m   1129\u001b[0m         \u001b[0;31m# not doing input validation.\u001b[0m\u001b[0;34m\u001b[0m\u001b[0;34m\u001b[0m\u001b[0m\n\u001b[1;32m   1130\u001b[0m         \u001b[0mscore\u001b[0m \u001b[0;34m=\u001b[0m \u001b[0mself\u001b[0m\u001b[0;34m.\u001b[0m\u001b[0m_init_decision_function\u001b[0m\u001b[0;34m(\u001b[0m\u001b[0mX\u001b[0m\u001b[0;34m)\u001b[0m\u001b[0;34m\u001b[0m\u001b[0m\n\u001b[0;32m-> 1131\u001b[0;31m         \u001b[0mpredict_stages\u001b[0m\u001b[0;34m(\u001b[0m\u001b[0mself\u001b[0m\u001b[0;34m.\u001b[0m\u001b[0mestimators_\u001b[0m\u001b[0;34m,\u001b[0m \u001b[0mX\u001b[0m\u001b[0;34m,\u001b[0m \u001b[0mself\u001b[0m\u001b[0;34m.\u001b[0m\u001b[0mlearning_rate\u001b[0m\u001b[0;34m,\u001b[0m \u001b[0mscore\u001b[0m\u001b[0;34m)\u001b[0m\u001b[0;34m\u001b[0m\u001b[0m\n\u001b[0m\u001b[1;32m   1132\u001b[0m         \u001b[0;32mreturn\u001b[0m \u001b[0mscore\u001b[0m\u001b[0;34m\u001b[0m\u001b[0m\n\u001b[1;32m   1133\u001b[0m \u001b[0;34m\u001b[0m\u001b[0m\n",
      "\u001b[0;31mKeyboardInterrupt\u001b[0m: "
     ]
    }
   ],
   "source": [
    "# grid search for boosting parameters\n",
    "\n",
    "from sklearn.model_selection import GridSearchCV\n",
    "\n",
    "grid_param2 = [{'n_estimators':np.arange(200,1500,300),'learning_rate':np.arange(0.01,0.1,0.02), 'max_depth':np.arange(1,5,2), 'max_features':np.arange(1,15,3)}]\n",
    "\n",
    "para_search2 = GridSearchCV(gboost, grid_param2, cv=5, return_train_score=True)\n",
    "\n",
    "para_search2.fit(X_train,y_train)\n",
    "#para_search2.cv_results_\n",
    "#para_search2.grid_scores_\n",
    "\n",
    "print(para_search2.best_score_)\n",
    "print(para_search2.best_params_)\n",
    "\n",
    "Rand_for_best = para_search2.best_estimator_\n",
    "print(Rand_for_best.fit(X_train,y_train))\n",
    "print(Rand_for_best.score(X_train,y_train))"
   ]
  },
  {
   "cell_type": "code",
   "execution_count": null,
   "metadata": {},
   "outputs": [],
   "source": [
    "# validation curve -Bagging\n",
    "from sklearn.model_selection import validation_curve\n",
    "\n",
    "# range to search parameters\n",
    "param_range = np.arange(1,20,2)\n",
    "# dictionary with parameters and range for gride\n",
    "kwargs = dict(param_name='n_estimators', param_range=param_range)\n",
    "\n",
    "#training and test scores for varying parameter values and k-fold cross validation\n",
    "train_scores, test_scores = validation_curve(gboost, X_train,y_train, **kwargs, cv=5)\n",
    "# take mean over all crossvalidate result(different sample)\n",
    "train_scores_mean = np.mean(train_scores, axis=1)\n",
    "train_scores_std = np.std(train_scores, axis=1)\n",
    "test_scores_mean = np.mean(test_scores, axis=1)\n",
    "test_scores_std = np.std(test_scores, axis=1)\n",
    "print(test_scores_mean)\n",
    "\n",
    "\n",
    "# Train mean and standard deviation\n",
    "\n",
    "plt.figure(figsize=(10,7))\n",
    "plt.plot(param_range, train_scores_mean, color='r')\n",
    "train_y1 = train_scores_mean - train_scores_std\n",
    "train_y2 = train_scores_mean + train_scores_std\n",
    "plt.fill_between(param_range, y1=train_y1, y2=train_y2, color='r', alpha=0.1)\n",
    "\n",
    "# Test mean and standard deviation\n",
    "plt.plot(param_range, test_scores_mean,color='b')\n",
    "test_y1 = test_scores_mean - test_scores_std\n",
    "test_y2 = test_scores_mean + test_scores_std\n",
    "plt.xlabel('n_estimator',fontsize=15)\n",
    "plt.ylabel('RSquare',fontsize=15)\n",
    "plt.title('Grid Search for gboosting parameters', fontsize=20)\n",
    "plt.legend(('Train', 'Validation'),loc='upper right')\n",
    "plt.fill_between(param_range, y1=test_y1, y2=test_y2, color='b', alpha=0.1)\n",
    "plt.savefig('gboosting_n_estimator.png')\n",
    "plt.show()\n",
    "\n",
    "# on x axis , number of k\n",
    "# to choose , two things need to consider, decrepancy and accruracy "
   ]
  },
  {
   "cell_type": "markdown",
   "metadata": {},
   "source": [
    "## XGboost regression"
   ]
  },
  {
   "cell_type": "code",
   "execution_count": 47,
   "metadata": {},
   "outputs": [
    {
     "name": "stdout",
     "output_type": "stream",
     "text": [
      "XGboost score (RMSE) : 0.13129 (0.01859)\n",
      "XGboost R^2 : 0.94153 (0.01561)\n",
      "XGboost R^2 for test data : 0.9195019932366425\n",
      "train-RMSE: 0.08688328356554406\n",
      "test-RMSE: 0.12178557837096693\n"
     ]
    }
   ],
   "source": [
    "import xgboost as xgb\n",
    "xgboo = xgb.XGBRegressor()\n",
    "score=rmse_cv(xgboo,X_train,y_train) # score with cross validation\n",
    "rsquare=rsquare_cv(xgboo,X_train,y_train)\n",
    "print('XGboost score (RMSE) : {:0.5f} ({:0.5f})'.format(score.mean(),score.std()))\n",
    "print('XGboost R^2 : {:0.5f} ({:0.5f})'.format(rsquare.mean(),rsquare.std()))\n",
    "\n",
    "\n",
    "xgboo.fit(X_train,y_train)\n",
    "y_pred_train=xgboo.predict(X_train)\n",
    "y_pred=xgboo.predict(X_test)\n",
    "print('XGboost R^2 for test data :', xgboo.score(X_test, y_test)) # R^2 for the ols model\n",
    "\n",
    "# calculate these metrics by hand!\n",
    "from sklearn import metrics\n",
    "print('train-RMSE:', np.sqrt(metrics.mean_squared_error(y_train,y_pred_train)))\n",
    "print('test-RMSE:', np.sqrt(metrics.mean_squared_error(y_test,y_pred)))\n",
    "\n"
   ]
  },
  {
   "cell_type": "code",
   "execution_count": null,
   "metadata": {},
   "outputs": [],
   "source": [
    "xgboo = xgb.XGBRegressor(colsample_bytree=0.4603, gamma=0.0468, \n",
    "                             learning_rate=0.05, max_depth=3, \n",
    "                             min_child_weight=1.7817, n_estimators=2200,\n",
    "                             reg_alpha=0.4640, reg_lambda=0.8571,\n",
    "                             subsample=0.5213, silent=1,\n",
    "                             random_state =7, nthread = -1)\n",
    "\n",
    "score=rmse_cv(xgboo,X_train,y_train) # score with cross validation\n",
    "rsquare=rsquare_cv(xgboo,X_train,y_train)\n",
    "print('XGboost score : {:0.5f} ({:0.5f})'.format(score.mean(),score.std()))\n",
    "print('XGboost R^2 : {:0.5f} ({:0.5f})'.format(rsquare.mean(),rsquare.std()))\n"
   ]
  },
  {
   "cell_type": "code",
   "execution_count": 92,
   "metadata": {},
   "outputs": [
    {
     "data": {
      "text/plain": [
       "(1166, 347)"
      ]
     },
     "execution_count": 92,
     "metadata": {},
     "output_type": "execute_result"
    }
   ],
   "source": [
    "X_train.shape"
   ]
  },
  {
   "cell_type": "markdown",
   "metadata": {},
   "source": [
    "# final Prediction on test data set with Lasso and ElasticNet"
   ]
  },
  {
   "cell_type": "code",
   "execution_count": 90,
   "metadata": {},
   "outputs": [
    {
     "data": {
      "text/plain": [
       "array([135271.33281889, 157178.88770858, 194337.3206986 , ...,\n",
       "       181227.39666195, 117442.40543933, 233756.03977812])"
      ]
     },
     "execution_count": 90,
     "metadata": {},
     "output_type": "execute_result"
    }
   ],
   "source": [
    "# lasso regression ( more consise way)\n",
    "# ElasNet = make_pipeline(RobustScaler(), ElasticNet(alpha=0.0005, l1_ratio=0.5, random_state=1))\n",
    "\n",
    "#lasso = Lasso(alpha =0.0005, random_state=1)\n",
    "lasso = Lasso(random_state=1)\n",
    "\n",
    "#lasso = make_pipeline(RobustScaler(), Lasso(alpha =0.0005, random_state=1))\n",
    "lasso.fit(X1,Y1)\n",
    "np.exp(lasso.predict(X2))"
   ]
  },
  {
   "cell_type": "code",
   "execution_count": 91,
   "metadata": {},
   "outputs": [
    {
     "data": {
      "text/plain": [
       "1459"
      ]
     },
     "execution_count": 91,
     "metadata": {},
     "output_type": "execute_result"
    }
   ],
   "source": [
    "submission = pd.DataFrame({'Id': test_id, 'SalePrice': np.exp(lasso.predict(X2))})\n",
    "submission.to_csv('submission.csv', index=False)\n",
    "len(submission)"
   ]
  },
  {
   "cell_type": "code",
   "execution_count": 49,
   "metadata": {},
   "outputs": [
    {
     "data": {
      "text/plain": [
       "array([ 96253.46323171, 159119.96763944, 167801.12338172, ...,\n",
       "       126703.09528808, 115862.78456283, 208782.09394006])"
      ]
     },
     "execution_count": 49,
     "metadata": {},
     "output_type": "execute_result"
    }
   ],
   "source": [
    "# Ridge regression\n",
    "ridg=Ridge(alpha=9, random_state=1)\n",
    "ridg.fit(X_train,y_train)\n",
    "np.exp(ridg.predict(X2))"
   ]
  },
  {
   "cell_type": "code",
   "execution_count": 50,
   "metadata": {},
   "outputs": [
    {
     "data": {
      "text/plain": [
       "array([103251.15164101, 177369.79089913, 177399.41192447, ...,\n",
       "       126135.88833509, 115527.3827271 , 208583.00025341])"
      ]
     },
     "execution_count": 50,
     "metadata": {},
     "output_type": "execute_result"
    }
   ],
   "source": [
    "# ElasticNEt regression\n",
    "\n",
    "#elastic net regression\n",
    "ENet=ElasticNet(alpha=0.0007,l1_ratio=0.5,random_state=1)\n",
    "ENet.fit(X_train,y_train)\n",
    "np.exp(ENet.predict(X2))"
   ]
  },
  {
   "cell_type": "code",
   "execution_count": 72,
   "metadata": {},
   "outputs": [
    {
     "data": {
      "text/plain": [
       "1459"
      ]
     },
     "execution_count": 72,
     "metadata": {},
     "output_type": "execute_result"
    }
   ],
   "source": [
    "submission = pd.DataFrame({'Id': test_id, 'SalePrice': np.exp(ENet.predict(X2))})\n",
    "submission.to_csv('submission.csv', index=False)\n",
    "len(submission)"
   ]
  },
  {
   "cell_type": "code",
   "execution_count": 134,
   "metadata": {},
   "outputs": [
    {
     "data": {
      "text/plain": [
       "array([122325.56, 151053.2 , 196178.27, ..., 161326.6 , 119410.78,\n",
       "       217052.84], dtype=float32)"
      ]
     },
     "execution_count": 134,
     "metadata": {},
     "output_type": "execute_result"
    }
   ],
   "source": [
    "import xgboost as xgb\n",
    "xgboo = xgb.XGBRegressor()\n",
    "xgboo.fit(X_train,y_train)\n",
    "np.exp(xgboo.predict(X2[X_train.columns.values]))"
   ]
  },
  {
   "cell_type": "code",
   "execution_count": 135,
   "metadata": {},
   "outputs": [
    {
     "data": {
      "text/plain": [
       "1459"
      ]
     },
     "execution_count": 135,
     "metadata": {},
     "output_type": "execute_result"
    }
   ],
   "source": [
    "submission = pd.DataFrame({'Id': test_id, 'SalePrice': np.exp(xgboo.predict(X2[X_train.columns.values]))})\n",
    "submission.to_csv('submission.csv', index=False)\n",
    "len(submission)"
   ]
  },
  {
   "cell_type": "code",
   "execution_count": null,
   "metadata": {},
   "outputs": [],
   "source": []
  },
  {
   "cell_type": "code",
   "execution_count": null,
   "metadata": {},
   "outputs": [],
   "source": [
    "# stacking predictions , may be do more sofisticated\n",
    "combined_pred = (\n",
    "    lm.predict(test) +\n",
    "    model_xgb.predict(test) +\n",
    "    bag.predict(test) +\n",
    "    model_lasso.predict(test) +\n",
    "    elastic_net.predict(test) +\n",
    "    gboost.predict(test)) / 6\n",
    "# print('R2: {}'.format(r2_score(combined_pred, y_test)))"
   ]
  },
  {
   "cell_type": "code",
   "execution_count": null,
   "metadata": {},
   "outputs": [],
   "source": []
  },
  {
   "cell_type": "code",
   "execution_count": null,
   "metadata": {},
   "outputs": [],
   "source": []
  },
  {
   "cell_type": "markdown",
   "metadata": {},
   "source": [
    "# stacking or ensamble of the models"
   ]
  },
  {
   "cell_type": "code",
   "execution_count": null,
   "metadata": {},
   "outputs": [],
   "source": []
  },
  {
   "cell_type": "code",
   "execution_count": null,
   "metadata": {},
   "outputs": [],
   "source": []
  },
  {
   "cell_type": "code",
   "execution_count": null,
   "metadata": {},
   "outputs": [],
   "source": []
  },
  {
   "cell_type": "code",
   "execution_count": null,
   "metadata": {},
   "outputs": [],
   "source": []
  },
  {
   "cell_type": "code",
   "execution_count": null,
   "metadata": {},
   "outputs": [],
   "source": []
  },
  {
   "cell_type": "code",
   "execution_count": null,
   "metadata": {},
   "outputs": [],
   "source": []
  },
  {
   "cell_type": "code",
   "execution_count": null,
   "metadata": {},
   "outputs": [],
   "source": []
  },
  {
   "cell_type": "code",
   "execution_count": null,
   "metadata": {},
   "outputs": [],
   "source": []
  },
  {
   "cell_type": "code",
   "execution_count": null,
   "metadata": {},
   "outputs": [],
   "source": []
  },
  {
   "cell_type": "code",
   "execution_count": null,
   "metadata": {},
   "outputs": [],
   "source": []
  },
  {
   "cell_type": "code",
   "execution_count": null,
   "metadata": {},
   "outputs": [],
   "source": []
  },
  {
   "cell_type": "code",
   "execution_count": null,
   "metadata": {},
   "outputs": [],
   "source": []
  },
  {
   "cell_type": "code",
   "execution_count": null,
   "metadata": {},
   "outputs": [],
   "source": []
  },
  {
   "cell_type": "code",
   "execution_count": null,
   "metadata": {},
   "outputs": [],
   "source": []
  },
  {
   "cell_type": "code",
   "execution_count": null,
   "metadata": {},
   "outputs": [],
   "source": []
  },
  {
   "cell_type": "markdown",
   "metadata": {},
   "source": [
    "# Multilinear regression Model building starting"
   ]
  },
  {
   "cell_type": "code",
   "execution_count": 77,
   "metadata": {},
   "outputs": [
    {
     "data": {
      "text/html": [
       "<div>\n",
       "<style scoped>\n",
       "    .dataframe tbody tr th:only-of-type {\n",
       "        vertical-align: middle;\n",
       "    }\n",
       "\n",
       "    .dataframe tbody tr th {\n",
       "        vertical-align: top;\n",
       "    }\n",
       "\n",
       "    .dataframe thead th {\n",
       "        text-align: right;\n",
       "    }\n",
       "</style>\n",
       "<table border=\"1\" class=\"dataframe\">\n",
       "  <thead>\n",
       "    <tr style=\"text-align: right;\">\n",
       "      <th></th>\n",
       "      <th>Id</th>\n",
       "      <th>MSSubClass</th>\n",
       "      <th>LotFrontage</th>\n",
       "      <th>LotArea</th>\n",
       "      <th>OverallQual</th>\n",
       "      <th>OverallCond</th>\n",
       "      <th>YearBuilt</th>\n",
       "      <th>YearRemodAdd</th>\n",
       "      <th>MasVnrArea</th>\n",
       "      <th>BsmtFinSF1</th>\n",
       "      <th>...</th>\n",
       "      <th>GarageArea</th>\n",
       "      <th>WoodDeckSF</th>\n",
       "      <th>OpenPorchSF</th>\n",
       "      <th>EnclosedPorch</th>\n",
       "      <th>3SsnPorch</th>\n",
       "      <th>ScreenPorch</th>\n",
       "      <th>PoolArea</th>\n",
       "      <th>MiscVal</th>\n",
       "      <th>MoSold</th>\n",
       "      <th>YrSold</th>\n",
       "    </tr>\n",
       "  </thead>\n",
       "  <tbody>\n",
       "    <tr>\n",
       "      <th>0</th>\n",
       "      <td>1</td>\n",
       "      <td>60</td>\n",
       "      <td>65.0</td>\n",
       "      <td>8450</td>\n",
       "      <td>7</td>\n",
       "      <td>5</td>\n",
       "      <td>2003</td>\n",
       "      <td>2003</td>\n",
       "      <td>196.0</td>\n",
       "      <td>706</td>\n",
       "      <td>...</td>\n",
       "      <td>548</td>\n",
       "      <td>0</td>\n",
       "      <td>61</td>\n",
       "      <td>0</td>\n",
       "      <td>0</td>\n",
       "      <td>0</td>\n",
       "      <td>0</td>\n",
       "      <td>0</td>\n",
       "      <td>2</td>\n",
       "      <td>2008</td>\n",
       "    </tr>\n",
       "    <tr>\n",
       "      <th>1</th>\n",
       "      <td>2</td>\n",
       "      <td>20</td>\n",
       "      <td>80.0</td>\n",
       "      <td>9600</td>\n",
       "      <td>6</td>\n",
       "      <td>8</td>\n",
       "      <td>1976</td>\n",
       "      <td>1976</td>\n",
       "      <td>0.0</td>\n",
       "      <td>978</td>\n",
       "      <td>...</td>\n",
       "      <td>460</td>\n",
       "      <td>298</td>\n",
       "      <td>0</td>\n",
       "      <td>0</td>\n",
       "      <td>0</td>\n",
       "      <td>0</td>\n",
       "      <td>0</td>\n",
       "      <td>0</td>\n",
       "      <td>5</td>\n",
       "      <td>2007</td>\n",
       "    </tr>\n",
       "    <tr>\n",
       "      <th>2</th>\n",
       "      <td>3</td>\n",
       "      <td>60</td>\n",
       "      <td>68.0</td>\n",
       "      <td>11250</td>\n",
       "      <td>7</td>\n",
       "      <td>5</td>\n",
       "      <td>2001</td>\n",
       "      <td>2002</td>\n",
       "      <td>162.0</td>\n",
       "      <td>486</td>\n",
       "      <td>...</td>\n",
       "      <td>608</td>\n",
       "      <td>0</td>\n",
       "      <td>42</td>\n",
       "      <td>0</td>\n",
       "      <td>0</td>\n",
       "      <td>0</td>\n",
       "      <td>0</td>\n",
       "      <td>0</td>\n",
       "      <td>9</td>\n",
       "      <td>2008</td>\n",
       "    </tr>\n",
       "    <tr>\n",
       "      <th>3</th>\n",
       "      <td>4</td>\n",
       "      <td>70</td>\n",
       "      <td>60.0</td>\n",
       "      <td>9550</td>\n",
       "      <td>7</td>\n",
       "      <td>5</td>\n",
       "      <td>1915</td>\n",
       "      <td>1970</td>\n",
       "      <td>0.0</td>\n",
       "      <td>216</td>\n",
       "      <td>...</td>\n",
       "      <td>642</td>\n",
       "      <td>0</td>\n",
       "      <td>35</td>\n",
       "      <td>272</td>\n",
       "      <td>0</td>\n",
       "      <td>0</td>\n",
       "      <td>0</td>\n",
       "      <td>0</td>\n",
       "      <td>2</td>\n",
       "      <td>2006</td>\n",
       "    </tr>\n",
       "    <tr>\n",
       "      <th>4</th>\n",
       "      <td>5</td>\n",
       "      <td>60</td>\n",
       "      <td>84.0</td>\n",
       "      <td>14260</td>\n",
       "      <td>8</td>\n",
       "      <td>5</td>\n",
       "      <td>2000</td>\n",
       "      <td>2000</td>\n",
       "      <td>350.0</td>\n",
       "      <td>655</td>\n",
       "      <td>...</td>\n",
       "      <td>836</td>\n",
       "      <td>192</td>\n",
       "      <td>84</td>\n",
       "      <td>0</td>\n",
       "      <td>0</td>\n",
       "      <td>0</td>\n",
       "      <td>0</td>\n",
       "      <td>0</td>\n",
       "      <td>12</td>\n",
       "      <td>2008</td>\n",
       "    </tr>\n",
       "  </tbody>\n",
       "</table>\n",
       "<p>5 rows × 37 columns</p>\n",
       "</div>"
      ],
      "text/plain": [
       "   Id  MSSubClass  LotFrontage  LotArea  OverallQual  OverallCond  YearBuilt  \\\n",
       "0   1          60         65.0     8450            7            5       2003   \n",
       "1   2          20         80.0     9600            6            8       1976   \n",
       "2   3          60         68.0    11250            7            5       2001   \n",
       "3   4          70         60.0     9550            7            5       1915   \n",
       "4   5          60         84.0    14260            8            5       2000   \n",
       "\n",
       "   YearRemodAdd  MasVnrArea  BsmtFinSF1   ...    GarageArea  WoodDeckSF  \\\n",
       "0          2003       196.0         706   ...           548           0   \n",
       "1          1976         0.0         978   ...           460         298   \n",
       "2          2002       162.0         486   ...           608           0   \n",
       "3          1970         0.0         216   ...           642           0   \n",
       "4          2000       350.0         655   ...           836         192   \n",
       "\n",
       "   OpenPorchSF  EnclosedPorch  3SsnPorch  ScreenPorch  PoolArea  MiscVal  \\\n",
       "0           61              0          0            0         0        0   \n",
       "1            0              0          0            0         0        0   \n",
       "2           42              0          0            0         0        0   \n",
       "3           35            272          0            0         0        0   \n",
       "4           84              0          0            0         0        0   \n",
       "\n",
       "   MoSold  YrSold  \n",
       "0       2    2008  \n",
       "1       5    2007  \n",
       "2       9    2008  \n",
       "3       2    2006  \n",
       "4      12    2008  \n",
       "\n",
       "[5 rows x 37 columns]"
      ]
     },
     "execution_count": 77,
     "metadata": {},
     "output_type": "execute_result"
    }
   ],
   "source": [
    "# dividing feature and target variables from numerical data only\n",
    "X = num_data.iloc[:, :-1] # features\n",
    "y = num_data.iloc[:, -1] # targets\n",
    "X.head(5)\n"
   ]
  },
  {
   "cell_type": "code",
   "execution_count": 78,
   "metadata": {},
   "outputs": [
    {
     "data": {
      "text/plain": [
       "<matplotlib.axes._subplots.AxesSubplot at 0x1a1c154278>"
      ]
     },
     "execution_count": 78,
     "metadata": {},
     "output_type": "execute_result"
    },
    {
     "data": {
      "image/png": "[encoded data removed]",
      "text/plain": [
       "<matplotlib.figure.Figure at 0x1a1bd89c18>"
      ]
     },
     "metadata": {},
     "output_type": "display_data"
    }
   ],
   "source": [
    "# looking target variables ( sales price)\n",
    "X1=X\n",
    "y.describe()\n",
    "sns.distplot(y)"
   ]
  },
  {
   "cell_type": "markdown",
   "metadata": {},
   "source": [
    "# building simple regression model"
   ]
  },
  {
   "cell_type": "code",
   "execution_count": 79,
   "metadata": {},
   "outputs": [],
   "source": [
    "# Splitting the dataset into the Training set and Test set\n",
    "\n",
    "from sklearn.cross_validation import train_test_split\n",
    "X_train, X_test, y_train, y_test = train_test_split(X1, y, test_size = 0.2 , random_state = 1)\n",
    "\n",
    "# Fitting Multiple Linear Regression to the Training set\n",
    "from sklearn.linear_model import LinearRegression\n",
    "regressor = LinearRegression()\n",
    "regressor.fit(X_train, y_train)\n",
    "\n",
    "# Predicting the Test set results\n",
    "y_pred = regressor.predict(X_test)\n"
   ]
  },
  {
   "cell_type": "code",
   "execution_count": 86,
   "metadata": {},
   "outputs": [
    {
     "name": "stdout",
     "output_type": "stream",
     "text": [
      "R^2 0.8190193003573013\n",
      "RSS: 376897277811.91\n",
      "21551.356793330942\n",
      "3388.2146556364946\n"
     ]
    }
   ],
   "source": [
    "from math import sqrt\n",
    "\n",
    "# measure R^2, RSS score\n",
    "regressor.score(X_train,y_train)\n",
    "print('R^2', regressor.score(X_test,y_test))\n",
    "print(\"RSS: %.2f\" % np.sum((y_test - regressor.predict(X_test))**2))\n",
    "print(sum(abs(y_test - regressor.predict(X_test)))/292)\n",
    "print(sqrt(np.sum(y_test - regressor.predict(X_test))**2)/292)\n",
    "\n"
   ]
  },
  {
   "cell_type": "code",
   "execution_count": 87,
   "metadata": {},
   "outputs": [
    {
     "name": "stdout",
     "output_type": "stream",
     "text": [
      "R^2: 0.80872\n",
      "RSS: 1361087350999.96\n",
      "3995.3989168405765\n"
     ]
    }
   ],
   "source": [
    "#### multiple linear regression fit with ols\n",
    "\n",
    "from sklearn import linear_model\n",
    "ols = linear_model.LinearRegression()\n",
    "\n",
    "ols.fit(X_train,y_train)\n",
    "\n",
    "print(\"R^2: %.5f\" % ols.score(X_train, y_train))\n",
    "print(\"RSS: %.2f\" % np.sum((ols.predict(X_train) - y_train) ** 2))\n",
    "print(sqrt(np.sum((ols.predict(X_train) - y_train) ** 2))/292)\n"
   ]
  },
  {
   "cell_type": "code",
   "execution_count": 88,
   "metadata": {},
   "outputs": [
    {
     "data": {
      "text/plain": [
       "<matplotlib.collections.PathCollection at 0x1a1c29fdd8>"
      ]
     },
     "execution_count": 88,
     "metadata": {},
     "output_type": "execute_result"
    },
    {
     "data": {
      "image/png": "[encoded data removed]",
      "text/plain": [
       "<matplotlib.figure.Figure at 0x1a1be234e0>"
      ]
     },
     "metadata": {},
     "output_type": "display_data"
    }
   ],
   "source": [
    "# visualization of prediction\n",
    "plt.scatter(y_train,ols.predict(X_train), c=['r','b'])"
   ]
  },
  {
   "cell_type": "code",
   "execution_count": 99,
   "metadata": {},
   "outputs": [
    {
     "name": "stdout",
     "output_type": "stream",
     "text": [
      "MAE: 0.13890274495241342\n",
      "MSE: 0.05105833502829446\n",
      "RMSE: 0.22596091482443253\n",
      "RMSE: 35926.92725652428\n"
     ]
    }
   ],
   "source": [
    "# calculate these metrics by hand!\n",
    "from sklearn import metrics\n",
    "print('MAE:', metrics.mean_absolute_error(np.log(y_test),np.log(y_pred)))\n",
    "print('MSE:', metrics.mean_squared_error(np.log(y_test),np.log(y_pred)))\n",
    "print('RMSE:', np.sqrt(metrics.mean_squared_error(np.log(y_test),np.log(y_pred))))\n",
    "print('RMSE:', np.sqrt(metrics.mean_squared_error(y_test,y_pred)))"
   ]
  },
  {
   "cell_type": "code",
   "execution_count": null,
   "metadata": {},
   "outputs": [],
   "source": []
  },
  {
   "cell_type": "markdown",
   "metadata": {},
   "source": [
    "# SVR regression"
   ]
  }
 ],
 "metadata": {
  "kernelspec": {
   "display_name": "Python 3",
   "language": "python",
   "name": "python3"
  },
  "language_info": {
   "codemirror_mode": {
    "name": "ipython",
    "version": 3
   },
   "file_extension": ".py",
   "mimetype": "text/x-python",
   "name": "python",
   "nbconvert_exporter": "python",
   "pygments_lexer": "ipython3",
   "version": "3.6.4"
  }
 },
 "nbformat": 4,
 "nbformat_minor": 2
}
